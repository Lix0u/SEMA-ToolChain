{
 "cells": [
  {
   "cell_type": "markdown",
   "id": "08162fc6",
   "metadata": {},
   "source": [
    "# **Deep Learning Classifier**"
   ]
  },
  {
   "attachments": {
    "DL_model-2.png": {
     "image/png": "[encoded data removed]"
    }
   },
   "cell_type": "markdown",
   "id": "ad2b5f3c",
   "metadata": {},
   "source": [
    "![DL_model-2.png](attachment:DL_model-2.png \"Deep Learning Model\")\n",
    "\n",
    "The Deep Learning model consists of two parts: the graph autoencoder and the multi-classifier. The graph autoencoder transforms a SCDG into a feature vector which is possible to be handled by the multi-classifier. Then, the multi-classifier takes the feature vector as input, and produces a predicted label of SCDG associated with this feature vector. The model is first trained on the training set, and then, is used to classify malwares. These steps are implemented by __SEMA__ as follows."
   ]
  },
  {
   "cell_type": "markdown",
   "id": "006e4a09",
   "metadata": {
    "slideshow": {
     "slide_type": "-"
    }
   },
   "source": [
    "## **Using SEMA toolchain**"
   ]
  },
  {
   "cell_type": "code",
   "execution_count": 1,
   "id": "43e6f90d",
   "metadata": {
    "scrolled": true,
    "slideshow": {
     "slide_type": "slide"
    }
   },
   "outputs": [
    {
     "name": "stdout",
     "output_type": "stream",
     "text": [
      "usage: ToolChainClassifier.py [-h] [--train] [--classifier CLASSIFIER]\r\n",
      "                              [--threshold THRESHOLD]\r\n",
      "                              [--biggest_subgraph BIGGEST_SUBGRAPH]\r\n",
      "                              [--support SUPPORT] [--nthread NTHREAD]\r\n",
      "                              [--verbose_classifier] [--ctimeout CTIMEOUT]\r\n",
      "                              [--families FAMILIES [FAMILIES ...]]\r\n",
      "                              [--mode MODE] [--epoch EPOCH]\r\n",
      "                              binaries\r\n",
      "\r\n",
      "Classification module arguments\r\n",
      "\r\n",
      "optional arguments:\r\n",
      "  -h, --help            show this help message and exit\r\n",
      "  --biggest_subgraph BIGGEST_SUBGRAPH\r\n",
      "                        Biggest subgraph consider for Gspan (default: 5)\r\n",
      "\r\n",
      "Classification module arguments:\r\n",
      "  --train               Launch training process, else classify/detect new\r\n",
      "                        sample with previously computed model\r\n",
      "  --classifier CLASSIFIER\r\n",
      "                        Classifier used for the analysis among\r\n",
      "                        (gspan,inria,wl,dl) (default : wl)\r\n",
      "  --threshold THRESHOLD\r\n",
      "                        Threshold used for the classifier [0..1] (default :\r\n",
      "                        0.45)\r\n",
      "  --support SUPPORT     Support used for the gpsan classifier [0..1] (default\r\n",
      "                        : 0.75)\r\n",
      "  --nthread NTHREAD     Number of thread used (default: max)\r\n",
      "  --verbose_classifier  Verbose output during train/classification (default :\r\n",
      "                        False)\r\n",
      "  --ctimeout CTIMEOUT   Timeout for gspan classifier (default : 3sec)\r\n",
      "  --families FAMILIES [FAMILIES ...]\r\n",
      "                        Families considered (default : ['bancteian','delf','Fe\r\n",
      "                        akerStealer','gandcrab','ircbot','lamer','nitol','RedL\r\n",
      "                        ineStealer','sfone','sillyp2p','simbot','Sodinokibi','\r\n",
      "                        sytro','upatre','wabot','RemcosRAT'])\r\n",
      "  --mode MODE           detection = binary decision cleanware vs malware\r\n",
      "                        (default) OR classification = malware family\r\n",
      "  --epoch EPOCH         Only for deep learning model: number of epoch\r\n",
      "                        (default: 5) Always 1 for FL model\r\n",
      "  binaries              Name of the folder containing binary'signatures to\r\n",
      "                        analyze (Default: output/save-SCDG/, only that for\r\n",
      "                        ToolChain)\r\n"
     ]
    }
   ],
   "source": [
    "import os\n",
    "os.chdir('../../src')\n",
    "os.getcwd()\n",
    "!python ToolChainClassifier/ToolChainClassifier.py -h"
   ]
  },
  {
   "cell_type": "markdown",
   "id": "dffb0071",
   "metadata": {},
   "source": [
    "### **Train model**\n",
    "We train the deep learning model on malwares in the given path, i.e., \"../Tutorial/DATA/CLASS_DATA/TRAIN\". Then, the trained model is saved and used for classify new malwares. If the given path contains only two labels (cleanware and malware), i.e., \"../Tutorial/DATA/BIN_DATA/TRAIN\", the trained model is a detection model which detect malwares from cleanwares. We train the deep learning model on malwares in the folder \"../Tutorial/DATA/CLASS_DATA/TRAIN\" during 10 epochs as follows."
   ]
  },
  {
   "cell_type": "code",
   "execution_count": 2,
   "id": "be6780eb",
   "metadata": {
    "scrolled": true,
    "slideshow": {
     "slide_type": "skip"
    }
   },
   "outputs": [
    {
     "name": "stdout",
     "output_type": "stream",
     "text": [
      "\u001b[1;32;40mINFO - 2022-05-02 22:57:35,808 - ToolChainClassifier - ['../Tutorial/DATA/CLASS_DATA/TRAIN/autoit', '../Tutorial/DATA/CLASS_DATA/TRAIN/bancteian', '../Tutorial/DATA/CLASS_DATA/TRAIN/delf', '../Tutorial/DATA/CLASS_DATA/TRAIN/ircbot', '../Tutorial/DATA/CLASS_DATA/TRAIN/sfone', '../Tutorial/DATA/CLASS_DATA/TRAIN/shiz', '../Tutorial/DATA/CLASS_DATA/TRAIN/sillyp2p', '../Tutorial/DATA/CLASS_DATA/TRAIN/simbot', '../Tutorial/DATA/CLASS_DATA/TRAIN/sytro', '../Tutorial/DATA/CLASS_DATA/TRAIN/wabot']\u001b[0m\n",
      "\u001b[1;32;40mINFO - 2022-05-02 22:57:35,808 - ToolChainClassifier - Namespace(biggest_subgraph=5, binaries='../Tutorial/DATA/CLASS_DATA/TRAIN', classifier='dl', ctimeout=3, epoch=10, families=None, mode=None, nthread=8, support=0.75, threshold=0.45, train=True, verbose_classifier=False)\u001b[0m\n",
      "\u001b[1;32;40mINFO - 2022-05-02 22:57:38,271 - DLDataset - Loading data from ../Tutorial/DATA/CLASS_DATA/TRAIN\u001b[0m\n",
      "100% (250 of 250) |######################| Elapsed Time: 0:00:15 Time:  0:00:15\n",
      "\u001b[1;32;40mINFO - 2022-05-02 22:57:53,736 - DLTrainerClassifier - Epoch 1/10:\u001b[0m\n",
      "100% (250 of 250) |######################| Elapsed Time: 0:01:12 Time:  0:01:12\n",
      "\u001b[1;32;40mINFO - 2022-05-02 22:59:05,807 - DLTrainerClassifier - \tEpoch 1: Train loss 0.3042750362555186 - Val loss 0.24601403892040252\u001b[0m\n",
      "\u001b[1;32;40mINFO - 2022-05-02 22:59:05,807 - DLTrainerClassifier - Epoch 2/10:\u001b[0m\n",
      "100% (250 of 250) |######################| Elapsed Time: 0:01:11 Time:  0:01:11\n",
      "\u001b[1;32;40mINFO - 2022-05-02 23:00:17,650 - DLTrainerClassifier - \tEpoch 2: Train loss 0.1985339066055086 - Val loss 0.20646327339112758\u001b[0m\n",
      "\u001b[1;32;40mINFO - 2022-05-02 23:00:17,650 - DLTrainerClassifier - Epoch 3/10:\u001b[0m\n",
      "100% (250 of 250) |######################| Elapsed Time: 0:01:13 Time:  0:01:13\n",
      "\u001b[1;32;40mINFO - 2022-05-02 23:01:31,140 - DLTrainerClassifier - \tEpoch 3: Train loss 0.12025526132848528 - Val loss 0.12205514371395111\u001b[0m\n",
      "\u001b[1;32;40mINFO - 2022-05-02 23:01:31,141 - DLTrainerClassifier - Epoch 4/10:\u001b[0m\n",
      "100% (250 of 250) |######################| Elapsed Time: 0:01:13 Time:  0:01:13\n",
      "\u001b[1;32;40mINFO - 2022-05-02 23:02:44,847 - DLTrainerClassifier - \tEpoch 4: Train loss 0.08216084952983592 - Val loss 0.13262200139462949\u001b[0m\n",
      "\u001b[1;32;40mINFO - 2022-05-02 23:02:44,847 - DLTrainerClassifier - Epoch 5/10:\u001b[0m\n",
      "100% (250 of 250) |######################| Elapsed Time: 0:01:14 Time:  0:01:14\n",
      "\u001b[1;32;40mINFO - 2022-05-02 23:03:59,356 - DLTrainerClassifier - \tEpoch 5: Train loss 0.06414267398003075 - Val loss 0.0848942420631647\u001b[0m\n",
      "\u001b[1;32;40mINFO - 2022-05-02 23:03:59,356 - DLTrainerClassifier - Epoch 6/10:\u001b[0m\n",
      "100% (250 of 250) |######################| Elapsed Time: 0:01:13 Time:  0:01:13\n",
      "\u001b[1;32;40mINFO - 2022-05-02 23:05:12,915 - DLTrainerClassifier - \tEpoch 6: Train loss 0.05138800455050336 - Val loss 0.10153629176318646\u001b[0m\n",
      "\u001b[1;32;40mINFO - 2022-05-02 23:05:12,916 - DLTrainerClassifier - Epoch 7/10:\u001b[0m\n",
      "100% (250 of 250) |######################| Elapsed Time: 0:01:12 Time:  0:01:12\n",
      "\u001b[1;32;40mINFO - 2022-05-02 23:06:25,731 - DLTrainerClassifier - \tEpoch 7: Train loss 0.04567612143440379 - Val loss 0.1098568268865347\u001b[0m\n",
      "\u001b[1;32;40mINFO - 2022-05-02 23:06:25,731 - DLTrainerClassifier - Epoch 8/10:\u001b[0m\n",
      "100% (250 of 250) |######################| Elapsed Time: 0:01:12 Time:  0:01:12\n",
      "\u001b[1;32;40mINFO - 2022-05-02 23:07:38,650 - DLTrainerClassifier - \tEpoch 8: Train loss 0.09178483776334259 - Val loss 0.13127170339226724\u001b[0m\n",
      "\u001b[1;32;40mINFO - 2022-05-02 23:07:38,651 - DLTrainerClassifier - Epoch 9/10:\u001b[0m\n",
      "100% (250 of 250) |######################| Elapsed Time: 0:01:13 Time:  0:01:13\n",
      "\u001b[1;32;40mINFO - 2022-05-02 23:08:51,880 - DLTrainerClassifier - \tEpoch 9: Train loss 0.040385990002089076 - Val loss 0.13164570778608323\u001b[0m\n",
      "\u001b[1;32;40mINFO - 2022-05-02 23:08:51,880 - DLTrainerClassifier - Epoch 10/10:\u001b[0m\n",
      "100% (250 of 250) |######################| Elapsed Time: 0:01:13 Time:  0:01:13\n",
      "\u001b[1;32;40mINFO - 2022-05-02 23:10:04,925 - DLTrainerClassifier - \tEpoch 10: Train loss 0.033418844793405796 - Val loss 0.14080563738942145\u001b[0m\n",
      "\u001b[1;32;40mINFO - 2022-05-02 23:10:04,927 - DLTrainerClassifier - \tLoss: 0.033418844793405796\u001b[0m\n",
      "\u001b[1;32;40mINFO - 2022-05-02 23:10:05,171 - ToolChainClassifier - Total training time: 749.3640828132629\u001b[0m\n",
      "\u001b[1;32;40mINFO - 2022-05-02 23:10:05,171 - ToolChainClassifier - Total classification time: 749.36421251297\u001b[0m\n"
     ]
    }
   ],
   "source": [
    "!python ToolChainClassifier/ToolChainClassifier.py --train --classifier dl --epoch 10 ../Tutorial/DATA/CLASS_DATA/TRAIN"
   ]
  },
  {
   "cell_type": "markdown",
   "id": "8e4b5c57",
   "metadata": {},
   "source": [
    "### **Use the trained model to classify malwares**\n",
    "We use the trained model to detect/classify new programs/malwares given in the folder \"../Tutorial/DATA/CLASS_DATA/TEST\". To simplify the evaluation task, we group programs into folders and each folder represents the true label of programs. Using the trained model, we classify malwares in the folder \"../Tutorial/DATA/CLASS_DATA/TEST\" as follows."
   ]
  },
  {
   "cell_type": "code",
   "execution_count": 3,
   "id": "1072cc77",
   "metadata": {},
   "outputs": [
    {
     "name": "stdout",
     "output_type": "stream",
     "text": [
      "\u001b[1;32;40mINFO - 2022-05-02 23:10:07,495 - ToolChainClassifier - ['../Tutorial/DATA/CLASS_DATA/TEST/autoit', '../Tutorial/DATA/CLASS_DATA/TEST/bancteian', '../Tutorial/DATA/CLASS_DATA/TEST/delf', '../Tutorial/DATA/CLASS_DATA/TEST/ircbot', '../Tutorial/DATA/CLASS_DATA/TEST/sfone', '../Tutorial/DATA/CLASS_DATA/TEST/shiz', '../Tutorial/DATA/CLASS_DATA/TEST/sillyp2p', '../Tutorial/DATA/CLASS_DATA/TEST/simbot', '../Tutorial/DATA/CLASS_DATA/TEST/sytro', '../Tutorial/DATA/CLASS_DATA/TEST/wabot']\u001b[0m\n",
      "\u001b[1;32;40mINFO - 2022-05-02 23:10:07,495 - ToolChainClassifier - Namespace(biggest_subgraph=5, binaries='../Tutorial/DATA/CLASS_DATA/TEST', classifier='dl', ctimeout=3, epoch=5, families=None, mode='classification', nthread=8, support=0.75, threshold=0.45, train=False, verbose_classifier=False)\u001b[0m\n",
      "\u001b[1;32;40mINFO - 2022-05-02 23:10:08,656 - DLDataset - Loading data from ../Tutorial/DATA/CLASS_DATA/TEST\u001b[0m\n",
      "100% (50 of 50) |########################| Elapsed Time: 0:00:02 Time:  0:00:02\n",
      "(00433191a896734271556918917ecec6.gs, autoit) is predicted as autoit (prob 1.00)\n",
      "(004c9c07fea878f4d316f831ff1912ea.gs, autoit) is predicted as autoit (prob 1.00)\n",
      "(005cfe4b8d323cf1b50e06cc2b968323.gs, autoit) is predicted as autoit (prob 1.00)\n",
      "(00713d6ea858ecd08877a4ec5392be1d.gs, autoit) is predicted as autoit (prob 1.00)\n",
      "(0079237db0f09f55c7cf72b7e6c53594.gs, autoit) is predicted as autoit (prob 1.00)\n",
      "(00b1843043a212578c3da3fa75efeed1.gs, bancteian) is predicted as bancteian (prob 1.00)\n",
      "(00b237028fe02c2342c4f0b68868babb.gs, bancteian) is predicted as bancteian (prob 1.00)\n",
      "(00b2b23d4d171d63209cb50741545e14.gs, bancteian) is predicted as bancteian (prob 1.00)\n",
      "(00c1a2379eb021a4d6f2e3a468fbd8f6.gs, bancteian) is predicted as bancteian (prob 1.00)\n",
      "(00c86efd50196d7c001d0bea4b0192ce.gs, bancteian) is predicted as bancteian (prob 1.00)\n",
      "(00ac22ddb982609720358eadbfcdba91.gs, delf) is predicted as sytro (prob 0.57)\n",
      "(03356e792253776c701295361e9f1659.gs, delf) is predicted as delf (prob 0.99)\n",
      "(0760ba347d7f4df3f1c0d655024a621a.gs, delf) is predicted as shiz (prob 0.99)\n",
      "(a01c4d13c8b18d2a42412648f0af42ac.gs, delf) is predicted as shiz (prob 0.98)\n",
      "(a0559ad1d0745163dd12a8cb140f947f.gs, delf) is predicted as delf (prob 0.99)\n",
      "(0089f73e8773830d41571f585fc908df.gs, ircbot) is predicted as ircbot (prob 1.00)\n",
      "(0090b8ce77e78aa9a16b52f31b931f1c.gs, ircbot) is predicted as ircbot (prob 1.00)\n",
      "(0091933f1bb327a0c438539f9a266857.gs, ircbot) is predicted as ircbot (prob 1.00)\n",
      "(009926f346ccf1ab2fc9bb5c9205d2d3.gs, ircbot) is predicted as ircbot (prob 1.00)\n",
      "(009ce5571ac437d210117b7867123b3b.gs, ircbot) is predicted as ircbot (prob 1.00)\n",
      "(0032564f65b668fe10dc2b38ee0f2233.gs, sfone) is predicted as sytro (prob 0.94)\n",
      "(003857ab9da8a00f892fd0f71da720ec.gs, sfone) is predicted as sytro (prob 0.94)\n",
      "(00b35700557e6c83656579903093a915.gs, sfone) is predicted as sfone (prob 1.00)\n",
      "(00b471513eaf40cf51d09a55ad07ca98.gs, sfone) is predicted as sfone (prob 1.00)\n",
      "(00b66e216ffbb6dfbad474b8b23fe9a6.gs, sfone) is predicted as sfone (prob 1.00)\n",
      "(02c2d7cc7dbc56f5659150b6b5b7df14.gs, shiz) is predicted as shiz (prob 1.00)\n",
      "(a000022ff0afd3f5220708ff5b8fcdb2.gs, shiz) is predicted as shiz (prob 1.00)\n",
      "(a000131ae24c994727bc4aebb4a8c2b2.gs, shiz) is predicted as shiz (prob 1.00)\n",
      "(a00051f933115a539c82f5523165ea80.gs, shiz) is predicted as shiz (prob 1.00)\n",
      "(a00141b7be578f9d5abbd4c4f9f329d5.gs, shiz) is predicted as shiz (prob 0.99)\n",
      "(00b335ed16a9305b2594ce2062a16e88.gs, sillyp2p) is predicted as sillyp2p (prob 1.00)\n",
      "(00c60c50aedacf218d729dfbfc280ec9.gs, sillyp2p) is predicted as sillyp2p (prob 1.00)\n",
      "(00c7b8963b2023e8ce8f50df2142d522.gs, sillyp2p) is predicted as sillyp2p (prob 1.00)\n",
      "(00c9980ddfc6d2c7c8a4f61006426123.gs, sillyp2p) is predicted as sillyp2p (prob 1.00)\n",
      "(00d24ebee6011f483e00887778716947.gs, sillyp2p) is predicted as sillyp2p (prob 1.00)\n",
      "(001526cac32b9385f87e536aa8f52f21.gs, simbot) is predicted as simbot (prob 1.00)\n",
      "(00182cd3e7ae42b5cac0c249d95245d8.gs, simbot) is predicted as simbot (prob 0.98)\n",
      "(002042fb87c3263681b74943b63e2753.gs, simbot) is predicted as simbot (prob 0.98)\n",
      "(0027bc939db1c0b7a32ef5696f525f59.gs, simbot) is predicted as simbot (prob 0.98)\n",
      "(003149b91cab0c99e310b718b0577c76.gs, simbot) is predicted as simbot (prob 0.97)\n",
      "(a0438e113e9807c9787217444129370c.gs, sytro) is predicted as sytro (prob 0.99)\n",
      "(a045a1ccb324f3338f7032d1457f2fc2.gs, sytro) is predicted as sytro (prob 0.99)\n",
      "(a048cfa296dd67007355d4db10ecc406.gs, sytro) is predicted as sytro (prob 0.99)\n",
      "(a050f3db3a45b651c002dca0056d77b4.gs, sytro) is predicted as sytro (prob 0.99)\n",
      "(a05861fcdbc8d812dc79885ad9277129.gs, sytro) is predicted as sytro (prob 0.53)\n",
      "(006c2225f106d1495a11e87dda056bcc.gs, wabot) is predicted as wabot (prob 1.00)\n",
      "(00705f269fc3e96a72e1621d2a5a4672.gs, wabot) is predicted as wabot (prob 1.00)\n",
      "(007b4f677b2ae5386ef22a6dd6255d24.gs, wabot) is predicted as wabot (prob 1.00)\n",
      "(a003087920327b31a58073cd2424e6cc.gs, wabot) is predicted as wabot (prob 1.00)\n",
      "(a00616890664727aff58da73e1f51774.gs, wabot) is predicted as wabot (prob 1.00)\n",
      "Figure(640x480)\n",
      "\u001b[1;32;40mINFO - 2022-05-02 23:10:13,760 - ToolChainClassifier - (0.9, 0.0)\u001b[0m\n",
      "\u001b[1;32;40mINFO - 2022-05-02 23:10:13,760 - ToolChainClassifier - Total classification time: 6.266056537628174\u001b[0m\n"
     ]
    }
   ],
   "source": [
    "!python ToolChainClassifier/ToolChainClassifier.py --mode classification --classifier dl ../Tutorial/DATA/CLASS_DATA/TEST"
   ]
  },
  {
   "cell_type": "markdown",
   "id": "e4bfcbd0",
   "metadata": {},
   "source": [
    "## **Import SEMA toolchain into your code**\n",
    "The following will show how to integrate our SEMA part into your code."
   ]
  },
  {
   "cell_type": "markdown",
   "id": "190ca83c",
   "metadata": {},
   "source": [
    "**Import the deep learning model from the SEMA Classifier**\n",
    "\n",
    "We import two classes __DLDataset__ which is used to load the graph data, and __DLTrainerClassifier__ which is used to train the deep learning model."
   ]
  },
  {
   "cell_type": "code",
   "execution_count": 4,
   "id": "071bbe36",
   "metadata": {},
   "outputs": [],
   "source": [
    "from ToolChainClassifier.classifier.DL import DLDataset, DLTrainerClassifier"
   ]
  },
  {
   "cell_type": "markdown",
   "id": "d084d417",
   "metadata": {},
   "source": [
    "### **Train a classification model**\n",
    "We train the classification model on malwares in the given path, i.e., \"../Tutorial/DATA/CLASS_DATA/TRAIN\". The training losses are reported by the matplot."
   ]
  },
  {
   "cell_type": "code",
   "execution_count": 5,
   "id": "ea15f642",
   "metadata": {
    "scrolled": true
   },
   "outputs": [
    {
     "name": "stderr",
     "output_type": "stream",
     "text": [
      "\u001b[1;32;40mINFO - 2022-05-02 23:10:16,797 - DLDataset - Loading data from ../Tutorial/DATA/CLASS_DATA/TRAIN\u001b[0m\n",
      "100% (250 of 250) |######################| Elapsed Time: 0:00:15 Time:  0:00:15\n",
      "\u001b[1;32;40mINFO - 2022-05-02 23:10:32,022 - DLTrainerClassifier - Epoch 1/5:\u001b[0m\n",
      "100% (250 of 250) |######################| Elapsed Time: 0:01:18 Time:  0:01:18\n",
      "\u001b[1;32;40mINFO - 2022-05-02 23:11:50,466 - DLTrainerClassifier - \tEpoch 1: Train loss 0.30935704521007007 - Val loss 0.22336073070764542\u001b[0m\n",
      "\u001b[1;32;40mINFO - 2022-05-02 23:11:50,467 - DLTrainerClassifier - Epoch 2/5:\u001b[0m\n",
      "100% (250 of 250) |######################| Elapsed Time: 0:01:19 Time:  0:01:19\n",
      "\u001b[1;32;40mINFO - 2022-05-02 23:13:10,416 - DLTrainerClassifier - \tEpoch 2: Train loss 0.20827626312772432 - Val loss 0.16572390198707582\u001b[0m\n",
      "\u001b[1;32;40mINFO - 2022-05-02 23:13:10,417 - DLTrainerClassifier - Epoch 3/5:\u001b[0m\n",
      "100% (250 of 250) |######################| Elapsed Time: 0:01:19 Time:  0:01:19\n",
      "\u001b[1;32;40mINFO - 2022-05-02 23:14:30,284 - DLTrainerClassifier - \tEpoch 3: Train loss 0.1371633462442292 - Val loss 0.1337244638800621\u001b[0m\n",
      "\u001b[1;32;40mINFO - 2022-05-02 23:14:30,284 - DLTrainerClassifier - Epoch 4/5:\u001b[0m\n",
      "100% (250 of 250) |######################| Elapsed Time: 0:01:21 Time:  0:01:21\n",
      "\u001b[1;32;40mINFO - 2022-05-02 23:15:51,414 - DLTrainerClassifier - \tEpoch 4: Train loss 0.11460265595051977 - Val loss 0.2233482914417982\u001b[0m\n",
      "\u001b[1;32;40mINFO - 2022-05-02 23:15:51,415 - DLTrainerClassifier - Epoch 5/5:\u001b[0m\n",
      "100% (250 of 250) |######################| Elapsed Time: 0:01:23 Time:  0:01:23\n",
      "\u001b[1;32;40mINFO - 2022-05-02 23:17:14,766 - DLTrainerClassifier - \tEpoch 5: Train loss 0.08071253823737304 - Val loss 0.06744310513138771\u001b[0m\n",
      "\u001b[1;32;40mINFO - 2022-05-02 23:17:14,769 - DLTrainerClassifier - \tLoss: 0.06744310513138771\u001b[0m\n"
     ]
    },
    {
     "data": {
      "image/png": "[encoded data removed]",
      "text/plain": [
       "<Figure size 432x288 with 1 Axes>"
      ]
     },
     "metadata": {
      "needs_background": "light"
     },
     "output_type": "display_data"
    }
   ],
   "source": [
    "from sklearn.metrics import confusion_matrix, ConfusionMatrixDisplay, f1_score, balanced_accuracy_score, accuracy_score\n",
    "import matplotlib.pyplot as plt\n",
    "%matplotlib inline\n",
    "\n",
    "#Path to malwares groupped into folders which are their true label\n",
    "dbtrain = \"../Tutorial/DATA/CLASS_DATA/TRAIN\"\n",
    "\n",
    "#Create the trainer model\n",
    "trainer = DLTrainerClassifier.DLTrainerClassifier(\"\",epoch=5,data_scale=0.9)\n",
    "\n",
    "#Train the model on malwares in the given path\n",
    "model,his = trainer.train(dbtrain)\n",
    "\n",
    "#Report the training results\n",
    "epochs = range(trainer.n_epochs)\n",
    "plt.plot(epochs, his[\"train\"], 'g', label='Training loss')\n",
    "plt.plot(epochs, his[\"val\"], 'b', label='validation loss')\n",
    "plt.title('Training and Validation loss')\n",
    "plt.xlabel('Epochs')\n",
    "plt.ylabel('Loss')\n",
    "_= plt.legend()"
   ]
  },
  {
   "cell_type": "markdown",
   "id": "dc2d25c0",
   "metadata": {},
   "source": [
    "### **Use the trained model to classify malwares**\n",
    "We use the trained model to classify malwares in the folder \"../Tutorial/DATA/CLASS_DATA/TEST\"."
   ]
  },
  {
   "cell_type": "code",
   "execution_count": 6,
   "id": "375bfef5",
   "metadata": {},
   "outputs": [
    {
     "name": "stderr",
     "output_type": "stream",
     "text": [
      "\u001b[1;32;40mINFO - 2022-05-02 23:17:15,008 - DLDataset - Loading data from ../Tutorial/DATA/CLASS_DATA/TEST\u001b[0m\n",
      "\u001b[1;32;40mINFO - 2022-05-02 23:17:15,008 - DLDataset - Loading data from ../Tutorial/DATA/CLASS_DATA/TEST\u001b[0m\n",
      "100% (50 of 50) |########################| Elapsed Time: 0:00:02 Time:  0:00:02\n"
     ]
    },
    {
     "name": "stdout",
     "output_type": "stream",
     "text": [
      "(00433191a896734271556918917ecec6.gs, autoit) is predicted as autoit (prob 1.00)\n",
      "(004c9c07fea878f4d316f831ff1912ea.gs, autoit) is predicted as autoit (prob 1.00)\n",
      "(005cfe4b8d323cf1b50e06cc2b968323.gs, autoit) is predicted as autoit (prob 1.00)\n",
      "(00713d6ea858ecd08877a4ec5392be1d.gs, autoit) is predicted as autoit (prob 1.00)\n",
      "(0079237db0f09f55c7cf72b7e6c53594.gs, autoit) is predicted as autoit (prob 1.00)\n",
      "(00b1843043a212578c3da3fa75efeed1.gs, bancteian) is predicted as bancteian (prob 0.99)\n",
      "(00b237028fe02c2342c4f0b68868babb.gs, bancteian) is predicted as bancteian (prob 0.99)\n",
      "(00b2b23d4d171d63209cb50741545e14.gs, bancteian) is predicted as bancteian (prob 1.00)\n",
      "(00c1a2379eb021a4d6f2e3a468fbd8f6.gs, bancteian) is predicted as bancteian (prob 1.00)\n",
      "(00c86efd50196d7c001d0bea4b0192ce.gs, bancteian) is predicted as bancteian (prob 1.00)\n",
      "(00ac22ddb982609720358eadbfcdba91.gs, delf) is predicted as delf (prob 0.83)\n",
      "(03356e792253776c701295361e9f1659.gs, delf) is predicted as delf (prob 0.91)\n",
      "(0760ba347d7f4df3f1c0d655024a621a.gs, delf) is predicted as shiz (prob 0.86)\n",
      "(a01c4d13c8b18d2a42412648f0af42ac.gs, delf) is predicted as shiz (prob 0.82)\n",
      "(a0559ad1d0745163dd12a8cb140f947f.gs, delf) is predicted as delf (prob 0.91)\n",
      "(0089f73e8773830d41571f585fc908df.gs, ircbot) is predicted as ircbot (prob 0.98)\n",
      "(0090b8ce77e78aa9a16b52f31b931f1c.gs, ircbot) is predicted as ircbot (prob 1.00)\n",
      "(0091933f1bb327a0c438539f9a266857.gs, ircbot) is predicted as ircbot (prob 1.00)\n",
      "(009926f346ccf1ab2fc9bb5c9205d2d3.gs, ircbot) is predicted as ircbot (prob 1.00)\n",
      "(009ce5571ac437d210117b7867123b3b.gs, ircbot) is predicted as ircbot (prob 0.98)\n",
      "(0032564f65b668fe10dc2b38ee0f2233.gs, sfone) is predicted as sytro (prob 0.81)\n",
      "(003857ab9da8a00f892fd0f71da720ec.gs, sfone) is predicted as sytro (prob 0.81)\n",
      "(00b35700557e6c83656579903093a915.gs, sfone) is predicted as sfone (prob 1.00)\n",
      "(00b471513eaf40cf51d09a55ad07ca98.gs, sfone) is predicted as sfone (prob 1.00)\n",
      "(00b66e216ffbb6dfbad474b8b23fe9a6.gs, sfone) is predicted as sfone (prob 1.00)\n",
      "(02c2d7cc7dbc56f5659150b6b5b7df14.gs, shiz) is predicted as shiz (prob 1.00)\n",
      "(a000022ff0afd3f5220708ff5b8fcdb2.gs, shiz) is predicted as shiz (prob 0.91)\n",
      "(a000131ae24c994727bc4aebb4a8c2b2.gs, shiz) is predicted as shiz (prob 0.98)\n",
      "(a00051f933115a539c82f5523165ea80.gs, shiz) is predicted as shiz (prob 1.00)\n",
      "(a00141b7be578f9d5abbd4c4f9f329d5.gs, shiz) is predicted as shiz (prob 0.98)\n",
      "(00b335ed16a9305b2594ce2062a16e88.gs, sillyp2p) is predicted as sillyp2p (prob 0.91)\n",
      "(00c60c50aedacf218d729dfbfc280ec9.gs, sillyp2p) is predicted as sillyp2p (prob 0.91)\n",
      "(00c7b8963b2023e8ce8f50df2142d522.gs, sillyp2p) is predicted as sillyp2p (prob 0.91)\n",
      "(00c9980ddfc6d2c7c8a4f61006426123.gs, sillyp2p) is predicted as sillyp2p (prob 0.91)\n",
      "(00d24ebee6011f483e00887778716947.gs, sillyp2p) is predicted as sillyp2p (prob 0.91)\n",
      "(001526cac32b9385f87e536aa8f52f21.gs, simbot) is predicted as simbot (prob 0.99)\n",
      "(00182cd3e7ae42b5cac0c249d95245d8.gs, simbot) is predicted as simbot (prob 0.97)\n",
      "(002042fb87c3263681b74943b63e2753.gs, simbot) is predicted as simbot (prob 0.97)\n",
      "(0027bc939db1c0b7a32ef5696f525f59.gs, simbot) is predicted as simbot (prob 0.97)\n",
      "(003149b91cab0c99e310b718b0577c76.gs, simbot) is predicted as simbot (prob 0.98)\n",
      "(a0438e113e9807c9787217444129370c.gs, sytro) is predicted as sytro (prob 0.98)\n",
      "(a045a1ccb324f3338f7032d1457f2fc2.gs, sytro) is predicted as sytro (prob 0.98)\n",
      "(a048cfa296dd67007355d4db10ecc406.gs, sytro) is predicted as sytro (prob 0.98)\n",
      "(a050f3db3a45b651c002dca0056d77b4.gs, sytro) is predicted as sytro (prob 0.98)\n",
      "(a05861fcdbc8d812dc79885ad9277129.gs, sytro) is predicted as delf (prob 0.87)\n",
      "(006c2225f106d1495a11e87dda056bcc.gs, wabot) is predicted as wabot (prob 0.98)\n",
      "(00705f269fc3e96a72e1621d2a5a4672.gs, wabot) is predicted as wabot (prob 0.98)\n",
      "(007b4f677b2ae5386ef22a6dd6255d24.gs, wabot) is predicted as wabot (prob 0.98)\n",
      "(a003087920327b31a58073cd2424e6cc.gs, wabot) is predicted as wabot (prob 0.98)\n",
      "(a00616890664727aff58da73e1f51774.gs, wabot) is predicted as wabot (prob 0.98)\n",
      "Accuracy: 0.9\n",
      "Balanced accuracy: 0.9\n",
      "f-score: 0.8977272727272727\n"
     ]
    },
    {
     "data": {
      "image/png": "[encoded data removed]",
      "text/plain": [
       "<Figure size 432x288 with 2 Axes>"
      ]
     },
     "metadata": {
      "needs_background": "light"
     },
     "output_type": "display_data"
    }
   ],
   "source": [
    "#Path to malwares groupped into folders which are their true label\n",
    "dbtest = \"../Tutorial/DATA/CLASS_DATA/TEST\"\n",
    "\n",
    "#Classify malwares from the given path\n",
    "y_pred, y_true = trainer.classify(dbtest)\n",
    "\n",
    "#Report the results\n",
    "cm = confusion_matrix(y_true, y_pred)\n",
    "disp = ConfusionMatrixDisplay(confusion_matrix=cm)\n",
    "disp.plot()\n",
    "acc = accuracy_score(y_true, y_pred)\n",
    "bacc = balanced_accuracy_score(y_true, y_pred)\n",
    "fscore = f1_score(y_true,y_pred, average='weighted')\n",
    "print(f\"Accuracy: {acc}\\nBalanced accuracy: {bacc}\\nf-score: {fscore}\")"
   ]
  },
  {
   "cell_type": "markdown",
   "id": "9d264b26",
   "metadata": {},
   "source": [
    "### **Use the graph encoder to convert graphs to feature vectors**\n",
    "The graphs of malwares in the test set are encoded by the graph encoder. Then, these vectors are transformed to view in a 2D-dimension by TSNE. Each malware class is represented by a color."
   ]
  },
  {
   "cell_type": "code",
   "execution_count": 7,
   "id": "9c0c2c65",
   "metadata": {},
   "outputs": [
    {
     "name": "stderr",
     "output_type": "stream",
     "text": [
      "\u001b[1;32;40mINFO - 2022-05-02 23:17:20,876 - DLDataset - Loading data from ../Tutorial/DATA/CLASS_DATA/TEST\u001b[0m\n",
      "\u001b[1;32;40mINFO - 2022-05-02 23:17:20,876 - DLDataset - Loading data from ../Tutorial/DATA/CLASS_DATA/TEST\u001b[0m\n",
      "\u001b[1;32;40mINFO - 2022-05-02 23:17:20,876 - DLDataset - Loading data from ../Tutorial/DATA/CLASS_DATA/TEST\u001b[0m\n",
      "100% (50 of 50) |########################| Elapsed Time: 0:00:03 Time:  0:00:03\n"
     ]
    },
    {
     "name": "stdout",
     "output_type": "stream",
     "text": [
      "['autoit', 'bancteian', 'delf', 'ircbot', 'sfone', 'shiz', 'sillyp2p', 'simbot', 'sytro', 'wabot']\n"
     ]
    },
    {
     "data": {
      "image/png": "[encoded data removed]",
      "text/plain": [
       "<Figure size 432x288 with 1 Axes>"
      ]
     },
     "metadata": {
      "needs_background": "light"
     },
     "output_type": "display_data"
    }
   ],
   "source": [
    "from sklearn.manifold import TSNE\n",
    "import torch\n",
    "import numpy as np\n",
    "dset = DLDataset.DLDataset(dbtest,\"mapping.txt\",\"APInameseq.txt\",4)\n",
    "colors = np.array([\"red\",\"green\",\"blue\",\"yellow\",\"pink\",\"black\",\"orange\",\"purple\",\"beige\",\"brown\",\"gray\",\"cyan\",\"magenta\"])\n",
    "classes = trainer.classe\n",
    "wv = trainer.model.RNN.encode\n",
    "X = list()\n",
    "c = list()\n",
    "for i in range(len(dset)):\n",
    "    X.append(wv(dset[i][0]))\n",
    "    c.append(colors[torch.where(dset[i][1]==1.)[1].item()])\n",
    "Y = torch.cat(X, dim=0)\n",
    "X_embedded = TSNE(n_components=2, learning_rate='auto', init='random').fit_transform(Y)\n",
    "_ = plt.scatter(X_embedded[:,0] , X_embedded[:,1],c=c)\n",
    "print(classes)"
   ]
  },
  {
   "cell_type": "markdown",
   "id": "6f3fe080",
   "metadata": {},
   "source": [
    "### **Train a dectection model**\n",
    "We use the training set given in \"../Tutorial/DATA/BIN_DATA/TRAIN\" to train a detection model as follows."
   ]
  },
  {
   "cell_type": "code",
   "execution_count": 8,
   "id": "d558723f",
   "metadata": {},
   "outputs": [
    {
     "name": "stderr",
     "output_type": "stream",
     "text": [
      "\u001b[1;32;40mINFO - 2022-05-02 23:17:25,543 - DLDataset - Loading data from ../Tutorial/DATA/BIN_DATA/TRAIN\u001b[0m\n",
      "\u001b[1;32;40mINFO - 2022-05-02 23:17:25,543 - DLDataset - Loading data from ../Tutorial/DATA/BIN_DATA/TRAIN\u001b[0m\n",
      "\u001b[1;32;40mINFO - 2022-05-02 23:17:25,543 - DLDataset - Loading data from ../Tutorial/DATA/BIN_DATA/TRAIN\u001b[0m\n",
      "\u001b[1;32;40mINFO - 2022-05-02 23:17:25,543 - DLDataset - Loading data from ../Tutorial/DATA/BIN_DATA/TRAIN\u001b[0m\n",
      "100% (200 of 200) |######################| Elapsed Time: 0:00:31 Time:  0:00:31\n",
      "\u001b[1;32;40mINFO - 2022-05-02 23:17:57,470 - DLTrainerClassifier - Epoch 1/5:\u001b[0m\n",
      "\u001b[1;32;40mINFO - 2022-05-02 23:17:57,470 - DLTrainerClassifier - Epoch 1/5:\u001b[0m\n",
      "100% (200 of 200) |######################| Elapsed Time: 0:03:59 Time:  0:03:59\n",
      "\u001b[1;32;40mINFO - 2022-05-02 23:21:57,215 - DLTrainerClassifier - \tEpoch 1: Train loss 0.620184742897335 - Val loss 0.31132501726970074\u001b[0m\n",
      "\u001b[1;32;40mINFO - 2022-05-02 23:21:57,215 - DLTrainerClassifier - \tEpoch 1: Train loss 0.620184742897335 - Val loss 0.31132501726970074\u001b[0m\n",
      "\u001b[1;32;40mINFO - 2022-05-02 23:21:57,216 - DLTrainerClassifier - Epoch 2/5:\u001b[0m\n",
      "\u001b[1;32;40mINFO - 2022-05-02 23:21:57,216 - DLTrainerClassifier - Epoch 2/5:\u001b[0m\n",
      "100% (200 of 200) |######################| Elapsed Time: 0:03:55 Time:  0:03:55\n",
      "\u001b[1;32;40mINFO - 2022-05-02 23:25:53,022 - DLTrainerClassifier - \tEpoch 2: Train loss 0.3682396045368579 - Val loss 0.16433622762560846\u001b[0m\n",
      "\u001b[1;32;40mINFO - 2022-05-02 23:25:53,022 - DLTrainerClassifier - \tEpoch 2: Train loss 0.3682396045368579 - Val loss 0.16433622762560846\u001b[0m\n",
      "\u001b[1;32;40mINFO - 2022-05-02 23:25:53,024 - DLTrainerClassifier - Epoch 3/5:\u001b[0m\n",
      "\u001b[1;32;40mINFO - 2022-05-02 23:25:53,024 - DLTrainerClassifier - Epoch 3/5:\u001b[0m\n",
      "100% (200 of 200) |######################| Elapsed Time: 0:03:54 Time:  0:03:54\n",
      "\u001b[1;32;40mINFO - 2022-05-02 23:29:47,871 - DLTrainerClassifier - \tEpoch 3: Train loss 0.19073982598363526 - Val loss 0.20100321099162102\u001b[0m\n",
      "\u001b[1;32;40mINFO - 2022-05-02 23:29:47,871 - DLTrainerClassifier - \tEpoch 3: Train loss 0.19073982598363526 - Val loss 0.20100321099162102\u001b[0m\n",
      "\u001b[1;32;40mINFO - 2022-05-02 23:29:47,873 - DLTrainerClassifier - Epoch 4/5:\u001b[0m\n",
      "\u001b[1;32;40mINFO - 2022-05-02 23:29:47,873 - DLTrainerClassifier - Epoch 4/5:\u001b[0m\n",
      "100% (200 of 200) |######################| Elapsed Time: 0:03:55 Time:  0:03:55\n",
      "\u001b[1;32;40mINFO - 2022-05-02 23:33:43,312 - DLTrainerClassifier - \tEpoch 4: Train loss 0.08439008202921185 - Val loss 0.03902193768881261\u001b[0m\n",
      "\u001b[1;32;40mINFO - 2022-05-02 23:33:43,312 - DLTrainerClassifier - \tEpoch 4: Train loss 0.08439008202921185 - Val loss 0.03902193768881261\u001b[0m\n",
      "\u001b[1;32;40mINFO - 2022-05-02 23:33:43,313 - DLTrainerClassifier - Epoch 5/5:\u001b[0m\n",
      "\u001b[1;32;40mINFO - 2022-05-02 23:33:43,313 - DLTrainerClassifier - Epoch 5/5:\u001b[0m\n",
      "100% (200 of 200) |######################| Elapsed Time: 0:03:56 Time:  0:03:56\n",
      "\u001b[1;32;40mINFO - 2022-05-02 23:37:40,292 - DLTrainerClassifier - \tEpoch 5: Train loss 0.035568691495185094 - Val loss 0.02320443489588797\u001b[0m\n",
      "\u001b[1;32;40mINFO - 2022-05-02 23:37:40,292 - DLTrainerClassifier - \tEpoch 5: Train loss 0.035568691495185094 - Val loss 0.02320443489588797\u001b[0m\n",
      "\u001b[1;32;40mINFO - 2022-05-02 23:37:40,295 - DLTrainerClassifier - \tLoss: 0.02320443489588797\u001b[0m\n",
      "\u001b[1;32;40mINFO - 2022-05-02 23:37:40,295 - DLTrainerClassifier - \tLoss: 0.02320443489588797\u001b[0m\n"
     ]
    },
    {
     "data": {
      "image/png": "[encoded data removed]",
      "text/plain": [
       "<Figure size 432x288 with 1 Axes>"
      ]
     },
     "metadata": {
      "needs_background": "light"
     },
     "output_type": "display_data"
    }
   ],
   "source": [
    "dbtrain = \"../Tutorial/DATA/BIN_DATA/TRAIN\"\n",
    "\n",
    "trainer = DLTrainerClassifier.DLTrainerClassifier(\"\",epoch=5,data_scale=0.9)\n",
    "\n",
    "model,his = trainer.train(dbtrain)\n",
    "\n",
    "epochs = range(trainer.n_epochs)\n",
    "plt.plot(epochs, his[\"train\"], 'g', label='Training loss')\n",
    "plt.plot(epochs, his[\"val\"], 'b', label='validation loss')\n",
    "plt.title('Training and Validation loss')\n",
    "plt.xlabel('Epochs')\n",
    "plt.ylabel('Loss')\n",
    "_= plt.legend()"
   ]
  },
  {
   "cell_type": "markdown",
   "id": "4cbb8dbe",
   "metadata": {},
   "source": [
    "### **Use the trained model to detect new programs**\n",
    "Then, the trained model is used to detect samples in \"../Tutorial/DATA/BIN_DATA/TRAIN\"."
   ]
  },
  {
   "cell_type": "code",
   "execution_count": 9,
   "id": "54e278f6",
   "metadata": {},
   "outputs": [
    {
     "name": "stderr",
     "output_type": "stream",
     "text": [
      "\u001b[1;32;40mINFO - 2022-05-02 23:37:40,628 - DLDataset - Loading data from ../Tutorial/DATA/BIN_DATA/TEST\u001b[0m\n",
      "\u001b[1;32;40mINFO - 2022-05-02 23:37:40,628 - DLDataset - Loading data from ../Tutorial/DATA/BIN_DATA/TEST\u001b[0m\n",
      "\u001b[1;32;40mINFO - 2022-05-02 23:37:40,628 - DLDataset - Loading data from ../Tutorial/DATA/BIN_DATA/TEST\u001b[0m\n",
      "\u001b[1;32;40mINFO - 2022-05-02 23:37:40,628 - DLDataset - Loading data from ../Tutorial/DATA/BIN_DATA/TEST\u001b[0m\n",
      "\u001b[1;32;40mINFO - 2022-05-02 23:37:40,628 - DLDataset - Loading data from ../Tutorial/DATA/BIN_DATA/TEST\u001b[0m\n",
      "100% (30 of 30) |########################| Elapsed Time: 0:00:02 Time:  0:00:02\n"
     ]
    },
    {
     "name": "stdout",
     "output_type": "stream",
     "text": [
      "(06a6f469a19be1712a4ab2b6dee130172dcd74002eabdce4de422bb406d8baff.gs, cleanware) is predicted as cleanware (prob 1.00)\n",
      "(3fc7052d15a6eec68d3911db975d0716f6809b00896776e2b966590f106327d2.gs, cleanware) is predicted as cleanware (prob 1.00)\n",
      "(3fed2049c67d7b45222dab43cc1caaa00edc73d62f05ab35ca017b1955ce9865.gs, cleanware) is predicted as cleanware (prob 1.00)\n",
      "(4abc1c7d6392012ec4a431d486e5a87fdda1f801fa39f385791fe4f1019c719b.gs, cleanware) is predicted as cleanware (prob 0.54)\n",
      "(4b04199bafc6887a0f209fe692733d154b4ef35a3e5ddc092697959c9841b8e3.gs, cleanware) is predicted as cleanware (prob 1.00)\n",
      "(4b3b6bb2e69eec9628d838f5bd0ecff1d5a4a4a3946d1059aecb1e3e2a442394.gs, cleanware) is predicted as cleanware (prob 1.00)\n",
      "(4b73e553ef155728384a2e1a065d991f958316a37624db5854bbda23a321e412.gs, cleanware) is predicted as cleanware (prob 1.00)\n",
      "(4b9352d05e2fb374b5e9a9a2e0ff691a05c7980ae9acbecc87d4d2bb330d832e.gs, cleanware) is predicted as cleanware (prob 0.99)\n",
      "(4bc2b8ca3e8a2b5b5d7a9721999956a52fc35adb6667308c3a1deb0ebea84e06.gs, cleanware) is predicted as cleanware (prob 1.00)\n",
      "(4be0b9d4d2a8099b9b1d2b09b068d7888be12bc2c582d58fdbc64d89502a285f.gs, cleanware) is predicted as cleanware (prob 1.00)\n",
      "(4c0fc71a1b61ee4dcfb93662fbfd4c01889bf9a75c65a91143afd4b217037aba.gs, cleanware) is predicted as cleanware (prob 1.00)\n",
      "(4c434024f60db43ed8c885009256dbfccc467f7415e32717a435b1ec604c0154.gs, cleanware) is predicted as cleanware (prob 1.00)\n",
      "(4c7b18be5975d35c48172f1fdc880eee5c2bed36b2bd5dcfa75f77ed3cc4457c.gs, cleanware) is predicted as cleanware (prob 1.00)\n",
      "(4c866bc98da27770d28d7f48a813ded0ad22f58fec74506f13d89b01ede91244.gs, cleanware) is predicted as cleanware (prob 1.00)\n",
      "(4cd02e49bfcd2374c302b4bc81d12894b52b7cd58eb98c22ab7e97572353d69e.gs, cleanware) is predicted as malware (prob 0.96)\n",
      "(SCDG_0a0f707663752fcee384add20de2ee2c3f2061781aa8f08266b155317eb4662d_SCDG.gs, malware) is predicted as malware (prob 1.00)\n",
      "(SCDG_0b10f51931ebadefe515c5db78b89095df9ff47ad1bd042eace9d47047c5a09d_SCDG.gs, malware) is predicted as malware (prob 1.00)\n",
      "(SCDG_0b47d28e8f982e7bf4794fdf5b979507c60bac0ecbe6a480232d04def25c34ee_SCDG.gs, malware) is predicted as malware (prob 1.00)\n",
      "(SCDG_0b4ede6ce80824c7bf66ecf5b42e1032c1039dc8e8b6e462d91be333fe9572e4_SCDG.gs, malware) is predicted as malware (prob 1.00)\n",
      "(SCDG_0c3d4871dc7316ae787156a859c22edfd6876458295e5350a6ed09f72e8b2e19_SCDG.gs, malware) is predicted as malware (prob 1.00)\n",
      "(SCDG_0c9976c9ffda1da06a0f8293ed9db01c9fb1d40a91f9896bda3ecfa406f67f4c_SCDG.gs, malware) is predicted as malware (prob 1.00)\n",
      "(SCDG_0d903cb51d86a47ea9baa01286e9a7d0c325f6412bc0e5cd48a4ba95c84e6d49_SCDG.gs, malware) is predicted as malware (prob 1.00)\n",
      "(SCDG_0ece37571329db1a83a8efeb0ed01d267ea7c2c349c235b2f4cc26bd07bb7df6_SCDG.gs, malware) is predicted as malware (prob 1.00)\n",
      "(SCDG_33b1629dc01123f78d568c7638f33ca6619834daad9866f666c00062920b13da_SCDG.gs, malware) is predicted as malware (prob 1.00)\n",
      "(SCDG_35f4374a535717f8aa78765591507d6361db9344cfc31ec0f8f7671ccd108b3e_SCDG.gs, malware) is predicted as malware (prob 1.00)\n",
      "(SCDG_37bce33693a358d3ed3021325869fb33d1147efeb6a7636b35d9f22ce68df8d7_SCDG.gs, malware) is predicted as malware (prob 1.00)\n",
      "(SCDG_37cc8d06cb1500b90001e9307464c2f7a2d603c54ef604db7b840b635900d365_SCDG.gs, malware) is predicted as malware (prob 1.00)\n",
      "(SCDG_38bd80f1a17882d299bdac7df085d889ef677951b8954d847e42503d38b77141_SCDG.gs, malware) is predicted as malware (prob 1.00)\n",
      "(SCDG_38da1c4dabd3275256a93bc7321267979802c35ec2cbd1ecef7a5ad18a61afad_SCDG.gs, malware) is predicted as malware (prob 1.00)\n",
      "(SCDG_39c1cf05a4961c0e946d542b90e20a67a649e2142891e1b8072f825fe904644e_SCDG.gs, malware) is predicted as malware (prob 1.00)\n",
      "ACC: 0.9666666666666667\n",
      "BACC: 0.9666666666666667\n",
      "f-score: 0.9666295884315907\n"
     ]
    }
   ],
   "source": [
    "#Path to the new programs groupped into folders (their true label).\n",
    "dbtest = \"../Tutorial/DATA/BIN_DATA/TEST\"\n",
    "\n",
    "#Detect programs in the given path\n",
    "y_pred, y_true  = trainer.classify(dbtest)\n",
    "\n",
    "#Report the detection results\n",
    "acc = accuracy_score(y_true, y_pred)\n",
    "bacc = balanced_accuracy_score(y_true, y_pred)\n",
    "fscore = f1_score(y_true,y_pred, average='weighted')\n",
    "print(f\"ACC: {acc}\\nBACC: {bacc}\\nf-score: {fscore}\")"
   ]
  },
  {
   "cell_type": "code",
   "execution_count": null,
   "id": "3f1be0a5",
   "metadata": {},
   "outputs": [],
   "source": []
  }
 ],
 "metadata": {
  "kernelspec": {
   "display_name": "Python 3",
   "language": "python",
   "name": "python3"
  },
  "language_info": {
   "codemirror_mode": {
    "name": "ipython",
    "version": 3
   },
   "file_extension": ".py",
   "mimetype": "text/x-python",
   "name": "python",
   "nbconvert_exporter": "python",
   "pygments_lexer": "ipython3",
   "version": "3.8.10"
  }
 },
 "nbformat": 4,
 "nbformat_minor": 5
}
