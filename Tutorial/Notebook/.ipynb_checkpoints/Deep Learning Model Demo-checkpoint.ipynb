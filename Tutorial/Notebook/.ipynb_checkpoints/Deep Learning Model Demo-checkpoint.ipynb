{
 "cells": [
  {
   "cell_type": "code",
   "execution_count": 1,
   "id": "01d4e6c5",
   "metadata": {},
   "outputs": [
    {
     "data": {
      "text/plain": [
       "'/media/kdam/Data/UCL/Federated-Learning/tool/SEMA/dam/SEMA-ToolChain/src'"
      ]
     },
     "execution_count": 1,
     "metadata": {},
     "output_type": "execute_result"
    }
   ],
   "source": [
    "import os\n",
    "os.chdir('../src')\n",
    "os.getcwd()"
   ]
  },
  {
   "cell_type": "code",
   "execution_count": 2,
   "id": "43e6f90d",
   "metadata": {
    "scrolled": true
   },
   "outputs": [
    {
     "name": "stdout",
     "output_type": "stream",
     "text": [
      "usage: ToolChainClassifier.py [-h] [--train] [--classifier CLASSIFIER]\r\n",
      "                              [--threshold THRESHOLD]\r\n",
      "                              [--biggest_subgraph BIGGEST_SUBGRAPH]\r\n",
      "                              [--support SUPPORT] [--nthread NTHREAD]\r\n",
      "                              [--verbose_classifier] [--ctimeout CTIMEOUT]\r\n",
      "                              [--families FAMILIES [FAMILIES ...]]\r\n",
      "                              [--mode MODE] [--epoch EPOCH] [--sepoch SEPOCH]\r\n",
      "                              [--data_scale DATA_SCALE]\r\n",
      "                              [--vector_size VECTOR_SIZE]\r\n",
      "                              [--batch_size BATCH_SIZE]\r\n",
      "                              binaries\r\n",
      "ToolChainClassifier.py: error: the following arguments are required: binaries\r\n"
     ]
    }
   ],
   "source": [
    "!python ToolChainClassifier/ToolChainClassifier.py"
   ]
  },
  {
   "cell_type": "code",
   "execution_count": 6,
   "id": "be6780eb",
   "metadata": {
    "scrolled": true
   },
   "outputs": [
    {
     "name": "stdout",
     "output_type": "stream",
     "text": [
      "usage: ToolChainClassifier.py [-h] [--train] [--classifier CLASSIFIER]\r\n",
      "                              [--threshold THRESHOLD]\r\n",
      "                              [--biggest_subgraph BIGGEST_SUBGRAPH]\r\n",
      "                              [--support SUPPORT] [--nthread NTHREAD]\r\n",
      "                              [--verbose_classifier] [--ctimeout CTIMEOUT]\r\n",
      "                              [--families FAMILIES [FAMILIES ...]]\r\n",
      "                              [--mode MODE] [--epoch EPOCH] [--sepoch SEPOCH]\r\n",
      "                              [--data_scale DATA_SCALE]\r\n",
      "                              [--vector_size VECTOR_SIZE]\r\n",
      "                              [--batch_size BATCH_SIZE]\r\n",
      "                              binaries\r\n",
      "ToolChainClassifier.py: error: unrecognized arguments: --smodel /media/kdam/Data/UCL/Federated-Learning/tool/SEMA/FL_data/DATA/CLASS_DATA/TRAIN\r\n"
     ]
    }
   ],
   "source": [
    "!python ToolChainClassifier/ToolChainClassifier.py --train --classifier dl /media/kdam/Data/UCL/Federated-Learning/tool/SEMA/FL_data/DATA/CLASS_DATA/TRAIN"
   ]
  },
  {
   "cell_type": "code",
   "execution_count": 4,
   "id": "1072cc77",
   "metadata": {},
   "outputs": [
    {
     "name": "stdout",
     "output_type": "stream",
     "text": [
      "['/media/kdam/Data/UCL/Federated-Learning/tool/SEMA/FL_data/DATA/CLASS_DATA/TEST/autoit', '/media/kdam/Data/UCL/Federated-Learning/tool/SEMA/FL_data/DATA/CLASS_DATA/TEST/bancteian', '/media/kdam/Data/UCL/Federated-Learning/tool/SEMA/FL_data/DATA/CLASS_DATA/TEST/delf', '/media/kdam/Data/UCL/Federated-Learning/tool/SEMA/FL_data/DATA/CLASS_DATA/TEST/ircbot', '/media/kdam/Data/UCL/Federated-Learning/tool/SEMA/FL_data/DATA/CLASS_DATA/TEST/sfone', '/media/kdam/Data/UCL/Federated-Learning/tool/SEMA/FL_data/DATA/CLASS_DATA/TEST/shiz', '/media/kdam/Data/UCL/Federated-Learning/tool/SEMA/FL_data/DATA/CLASS_DATA/TEST/sillyp2p', '/media/kdam/Data/UCL/Federated-Learning/tool/SEMA/FL_data/DATA/CLASS_DATA/TEST/simbot', '/media/kdam/Data/UCL/Federated-Learning/tool/SEMA/FL_data/DATA/CLASS_DATA/TEST/sytro', '/media/kdam/Data/UCL/Federated-Learning/tool/SEMA/FL_data/DATA/CLASS_DATA/TEST/wabot']\n",
      "Namespace(batch_size=1, biggest_subgraph=5, binaries='/media/kdam/Data/UCL/Federated-Learning/tool/SEMA/FL_data/DATA/CLASS_DATA/TEST', classifier='dl', ctimeout=3, data_scale=0.9, epoch=5, families=None, mode='classification', nthread=8, sepoch=1, smodel=0, support=0.75, threshold=0.45, train=False, vector_size=4, verbose_classifier=False)\n",
      "Loading data from /media/kdam/Data/UCL/Federated-Learning/tool/SEMA/FL_data/DATA/CLASS_DATA/TEST\n",
      "100% (50 of 50) |########################| Elapsed Time: 0:00:03 Time:  0:00:03\n",
      "Total classification time: 6.550971269607544\n"
     ]
    }
   ],
   "source": [
    "!python ToolChainClassifier/ToolChainClassifier.py --mode classification --classifier dl /media/kdam/Data/UCL/Federated-Learning/tool/SEMA/FL_data/DATA/CLASS_DATA/TEST"
   ]
  },
  {
   "cell_type": "code",
   "execution_count": 3,
   "id": "071bbe36",
   "metadata": {},
   "outputs": [],
   "source": [
    "from sklearn.metrics import confusion_matrix, ConfusionMatrixDisplay, f1_score, balanced_accuracy_score, accuracy_score\n",
    "import matplotlib.pyplot as plt\n",
    "%matplotlib inline"
   ]
  },
  {
   "cell_type": "code",
   "execution_count": 7,
   "id": "1d0402ad",
   "metadata": {},
   "outputs": [
    {
     "data": {
      "text/plain": [
       "'/media/kdam/Data/UCL/Federated-Learning/tool/SEMA/dam/SEMA-ToolChain/src'"
      ]
     },
     "execution_count": 7,
     "metadata": {},
     "output_type": "execute_result"
    }
   ],
   "source": [
    "os.getcwd()"
   ]
  },
  {
   "cell_type": "code",
   "execution_count": 8,
   "id": "ea15f642",
   "metadata": {},
   "outputs": [
    {
     "ename": "FileNotFoundError",
     "evalue": "[Errno 2] No such file or directory: '/media/kdam/Data/UCL/Federated-Learning/tool/SEMA-ToolChain/src/mapping.txt'",
     "output_type": "error",
     "traceback": [
      "\u001b[0;31m---------------------------------------------------------------------------\u001b[0m",
      "\u001b[0;31mFileNotFoundError\u001b[0m                         Traceback (most recent call last)",
      "Input \u001b[0;32mIn [8]\u001b[0m, in \u001b[0;36m<cell line: 7>\u001b[0;34m()\u001b[0m\n\u001b[1;32m      3\u001b[0m dbtrain \u001b[38;5;241m=\u001b[39m \u001b[38;5;124m\"\u001b[39m\u001b[38;5;124m/media/kdam/Data/UCL/Federated-Learning/tool/SEMA/FL_data/DATA/CLASS_DATA/TRAIN\u001b[39m\u001b[38;5;124m\"\u001b[39m\n\u001b[1;32m      5\u001b[0m trainer \u001b[38;5;241m=\u001b[39m DLTrainerClassifier\u001b[38;5;241m.\u001b[39mDLTrainerClassifier(\u001b[38;5;124m\"\u001b[39m\u001b[38;5;124m\"\u001b[39m,epoch\u001b[38;5;241m=\u001b[39m\u001b[38;5;241m5\u001b[39m,data_scale\u001b[38;5;241m=\u001b[39m\u001b[38;5;241m0.9\u001b[39m)\n\u001b[0;32m----> 7\u001b[0m model,his \u001b[38;5;241m=\u001b[39m \u001b[43mtrainer\u001b[49m\u001b[38;5;241;43m.\u001b[39;49m\u001b[43mtrain\u001b[49m\u001b[43m(\u001b[49m\u001b[43mdbtrain\u001b[49m\u001b[43m)\u001b[49m\n\u001b[1;32m      9\u001b[0m epochs \u001b[38;5;241m=\u001b[39m \u001b[38;5;28mrange\u001b[39m(trainer\u001b[38;5;241m.\u001b[39mn_epochs)\n\u001b[1;32m     10\u001b[0m plt\u001b[38;5;241m.\u001b[39mplot(epochs, his[\u001b[38;5;124m\"\u001b[39m\u001b[38;5;124mtrain\u001b[39m\u001b[38;5;124m\"\u001b[39m], \u001b[38;5;124m'\u001b[39m\u001b[38;5;124mg\u001b[39m\u001b[38;5;124m'\u001b[39m, label\u001b[38;5;241m=\u001b[39m\u001b[38;5;124m'\u001b[39m\u001b[38;5;124mTraining loss\u001b[39m\u001b[38;5;124m'\u001b[39m)\n",
      "File \u001b[0;32m/media/kdam/Data/UCL/Federated-Learning/tool/SEMA/dam/SEMA-ToolChain/src/ToolChainClassifier/classifier/DL/DLTrainerClassifier.py:124\u001b[0m, in \u001b[0;36mDLTrainerClassifier.train\u001b[0;34m(self, input_path, sepoch)\u001b[0m\n\u001b[1;32m    123\u001b[0m \u001b[38;5;28;01mdef\u001b[39;00m \u001b[38;5;21mtrain\u001b[39m(\u001b[38;5;28mself\u001b[39m, input_path, sepoch\u001b[38;5;241m=\u001b[39m\u001b[38;5;241m1\u001b[39m):\n\u001b[0;32m--> 124\u001b[0m \t\u001b[38;5;28mself\u001b[39m\u001b[38;5;241m.\u001b[39mdata_train, \u001b[38;5;28mself\u001b[39m\u001b[38;5;241m.\u001b[39mtrain_dataset, \u001b[38;5;28mself\u001b[39m\u001b[38;5;241m.\u001b[39mval_dataset \u001b[38;5;241m=\u001b[39m \u001b[38;5;28;43mself\u001b[39;49m\u001b[38;5;241;43m.\u001b[39;49m\u001b[43mload_dataset\u001b[49m\u001b[43m(\u001b[49m\u001b[43minput_path\u001b[49m\u001b[43m,\u001b[49m\u001b[38;5;28;43mself\u001b[39;49m\u001b[38;5;241;43m.\u001b[39;49m\u001b[43mdata_scale\u001b[49m\u001b[43m)\u001b[49m\n\u001b[1;32m    126\u001b[0m \tn_features, embedding_dim, classe \u001b[38;5;241m=\u001b[39m \u001b[38;5;28mself\u001b[39m\u001b[38;5;241m.\u001b[39mvector_size\u001b[38;5;241m*\u001b[39m\u001b[38;5;241m2\u001b[39m, \u001b[38;5;241m64\u001b[39m, \u001b[38;5;28mself\u001b[39m\u001b[38;5;241m.\u001b[39mdata_train\u001b[38;5;241m.\u001b[39mclasses\n\u001b[1;32m    128\u001b[0m \t\u001b[38;5;28mself\u001b[39m\u001b[38;5;241m.\u001b[39m_model \u001b[38;5;241m=\u001b[39m \u001b[38;5;28mself\u001b[39m\u001b[38;5;241m.\u001b[39mload_dl_model(n_features, embedding_dim, classe)\n",
      "File \u001b[0;32m/media/kdam/Data/UCL/Federated-Learning/tool/SEMA/dam/SEMA-ToolChain/src/ToolChainClassifier/classifier/DL/DLTrainerClassifier.py:74\u001b[0m, in \u001b[0;36mDLTrainerClassifier.load_dataset\u001b[0;34m(self, datapath, data_scale)\u001b[0m\n\u001b[1;32m     72\u001b[0m apipath \u001b[38;5;241m=\u001b[39m apiname \u001b[38;5;66;03m#os.path.join(dir_path, apiname)\u001b[39;00m\n\u001b[1;32m     73\u001b[0m mappath \u001b[38;5;241m=\u001b[39m fname   \u001b[38;5;66;03m#os.path.join(dir_path, fname)\u001b[39;00m\n\u001b[0;32m---> 74\u001b[0m data_train \u001b[38;5;241m=\u001b[39m \u001b[43mDLDataset\u001b[49m\u001b[43m(\u001b[49m\u001b[43mdatapath\u001b[49m\u001b[43m,\u001b[49m\u001b[43m \u001b[49m\u001b[43mmappath\u001b[49m\u001b[43m,\u001b[49m\u001b[43m \u001b[49m\u001b[43mapipath\u001b[49m\u001b[43m,\u001b[49m\u001b[43m \u001b[49m\u001b[38;5;28;43mself\u001b[39;49m\u001b[38;5;241;43m.\u001b[39;49m\u001b[43mvector_size\u001b[49m\u001b[43m)\u001b[49m\n\u001b[1;32m     75\u001b[0m d_train, d_val \u001b[38;5;241m=\u001b[39m random_split(data_train, [\u001b[38;5;28mint\u001b[39m(\u001b[38;5;28mlen\u001b[39m(data_train)\u001b[38;5;241m*\u001b[39mdata_scale), \u001b[38;5;28mlen\u001b[39m(data_train)\u001b[38;5;241m-\u001b[39m\u001b[38;5;28mint\u001b[39m(\u001b[38;5;28mlen\u001b[39m(data_train)\u001b[38;5;241m*\u001b[39mdata_scale)])\n\u001b[1;32m     76\u001b[0m train_dataset \u001b[38;5;241m=\u001b[39m DataLoader(d_train, batch_size\u001b[38;5;241m=\u001b[39m\u001b[38;5;241m1\u001b[39m,num_workers\u001b[38;5;241m=\u001b[39m\u001b[38;5;241m0\u001b[39m)\n",
      "File \u001b[0;32m/media/kdam/Data/UCL/Federated-Learning/tool/SEMA/dam/SEMA-ToolChain/src/ToolChainClassifier/classifier/DL/DLDataset.py:41\u001b[0m, in \u001b[0;36m__init__\u001b[0;34m(self, rootpath, mappath, apipath, vector_size)\u001b[0m\n\u001b[1;32m     39\u001b[0m self.data = list()\n\u001b[1;32m     40\u001b[0m self.vector_size = vector_size\n\u001b[0;32m---> 41\u001b[0m self.model, self._apimap = DLDataset.init_vector_model(vector_size, apipath,mappath)\n\u001b[1;32m     42\u001b[0m classes = set()\n\u001b[1;32m     43\u001b[0m for fname in glob.glob(\"{0}/*/*.gs\".format(rootpath)):\n",
      "File \u001b[0;32m/media/kdam/Data/UCL/Federated-Learning/tool/SEMA/dam/SEMA-ToolChain/src/ToolChainClassifier/classifier/DL/DLDataset.py:104\u001b[0m, in \u001b[0;36minit_vector_model\u001b[0;34m(vector_size, apiname, mappath)\u001b[0m\n\u001b[1;32m    102\u001b[0m def init_vector_model(vector_size =10, apiname = \"APInameseq.txt\",mappath = \"mapping.txt\"):\n\u001b[1;32m    103\u001b[0m     model = DLDataset.api2vector(apiname,vector_size) # os.path.join(dir_path, apiname)\n\u001b[0;32m--> 104\u001b[0m     apimap = DLDataset.read_map(mappath) #os.path.join(dir_path, mappath)\n\u001b[1;32m    105\u001b[0m     return model, apimap\n\u001b[1;32m    106\u001b[0m \n",
      "File \u001b[0;32m/media/kdam/Data/UCL/Federated-Learning/tool/SEMA/dam/SEMA-ToolChain/src/ToolChainClassifier/classifier/DL/DLDataset.py:85\u001b[0m, in \u001b[0;36mread_map\u001b[0;34m(fname)\u001b[0m\n\u001b[1;32m     83\u001b[0m @staticmethod\n\u001b[1;32m     84\u001b[0m def read_map(fname):\n\u001b[0;32m---> 85\u001b[0m     f =open(fname)\n\u001b[1;32m     86\u001b[0m     apimap = list()\n\u001b[1;32m     87\u001b[0m     for line in f:\n",
      "\u001b[0;31mFileNotFoundError\u001b[0m: [Errno 2] No such file or directory: '/media/kdam/Data/UCL/Federated-Learning/tool/SEMA-ToolChain/src/mapping.txt'"
     ]
    }
   ],
   "source": [
    "from ToolChainClassifier.classifier.DL import DLClassifier, DLDataset, DLTrainerClassifier\n",
    "\n",
    "dbtrain = \"/media/kdam/Data/UCL/Federated-Learning/tool/SEMA/FL_data/DATA/CLASS_DATA/TRAIN\"\n",
    "\n",
    "trainer = DLTrainerClassifier.DLTrainerClassifier(\"\",epoch=5,data_scale=0.9)\n",
    "\n",
    "model,his = trainer.train(dbtrain)\n",
    "\n",
    "epochs = range(trainer.n_epochs)\n",
    "plt.plot(epochs, his[\"train\"], 'g', label='Training loss')\n",
    "plt.plot(epochs, his[\"val\"], 'b', label='validation loss')\n",
    "plt.title('Training and Validation loss')\n",
    "plt.xlabel('Epochs')\n",
    "plt.ylabel('Loss')\n",
    "_= plt.legend()"
   ]
  },
  {
   "cell_type": "code",
   "execution_count": 7,
   "id": "375bfef5",
   "metadata": {},
   "outputs": [
    {
     "name": "stderr",
     "output_type": "stream",
     "text": [
      "Loading data from /media/kdam/Data/UCL/Federated-Learning/tool/SEMA/FL_data/DATA/CLASS_DATA/TEST\n",
      "Loading data from /media/kdam/Data/UCL/Federated-Learning/tool/SEMA/FL_data/DATA/CLASS_DATA/TEST\n",
      "100% (50 of 50) |########################| Elapsed Time: 0:00:03 Time:  0:00:03\n",
      "(00433191a896734271556918917ecec6.gs',),('autoit',)) is predicted as autoit\n",
      "(004c9c07fea878f4d316f831ff1912ea.gs',),('autoit',)) is predicted as autoit\n",
      "(005cfe4b8d323cf1b50e06cc2b968323.gs',),('autoit',)) is predicted as autoit\n",
      "(00713d6ea858ecd08877a4ec5392be1d.gs',),('autoit',)) is predicted as autoit\n",
      "(0079237db0f09f55c7cf72b7e6c53594.gs',),('autoit',)) is predicted as autoit\n",
      "(00b1843043a212578c3da3fa75efeed1.gs',),('bancteian',)) is predicted as bancteian\n",
      "(00b237028fe02c2342c4f0b68868babb.gs',),('bancteian',)) is predicted as bancteian\n",
      "(00b2b23d4d171d63209cb50741545e14.gs',),('bancteian',)) is predicted as bancteian\n",
      "(00c1a2379eb021a4d6f2e3a468fbd8f6.gs',),('bancteian',)) is predicted as bancteian\n",
      "(00c86efd50196d7c001d0bea4b0192ce.gs',),('bancteian',)) is predicted as bancteian\n",
      "(00ac22ddb982609720358eadbfcdba91.gs',),('delf',)) is predicted as sytro\n",
      "(03356e792253776c701295361e9f1659.gs',),('delf',)) is predicted as sytro\n",
      "(0760ba347d7f4df3f1c0d655024a621a.gs',),('delf',)) is predicted as sytro\n",
      "(a01c4d13c8b18d2a42412648f0af42ac.gs',),('delf',)) is predicted as sytro\n",
      "(a0559ad1d0745163dd12a8cb140f947f.gs',),('delf',)) is predicted as sytro\n",
      "(0089f73e8773830d41571f585fc908df.gs',),('ircbot',)) is predicted as ircbot\n",
      "(0090b8ce77e78aa9a16b52f31b931f1c.gs',),('ircbot',)) is predicted as ircbot\n",
      "(0091933f1bb327a0c438539f9a266857.gs',),('ircbot',)) is predicted as ircbot\n",
      "(009926f346ccf1ab2fc9bb5c9205d2d3.gs',),('ircbot',)) is predicted as ircbot\n",
      "(009ce5571ac437d210117b7867123b3b.gs',),('ircbot',)) is predicted as ircbot\n",
      "(0032564f65b668fe10dc2b38ee0f2233.gs',),('sfone',)) is predicted as sytro\n",
      "(003857ab9da8a00f892fd0f71da720ec.gs',),('sfone',)) is predicted as sytro\n",
      "(00b35700557e6c83656579903093a915.gs',),('sfone',)) is predicted as sfone\n",
      "(00b471513eaf40cf51d09a55ad07ca98.gs',),('sfone',)) is predicted as sfone\n",
      "(00b66e216ffbb6dfbad474b8b23fe9a6.gs',),('sfone',)) is predicted as sfone\n",
      "(02c2d7cc7dbc56f5659150b6b5b7df14.gs',),('shiz',)) is predicted as shiz\n",
      "(a000022ff0afd3f5220708ff5b8fcdb2.gs',),('shiz',)) is predicted as shiz\n",
      "(a000131ae24c994727bc4aebb4a8c2b2.gs',),('shiz',)) is predicted as shiz\n",
      "(a00051f933115a539c82f5523165ea80.gs',),('shiz',)) is predicted as shiz\n",
      "(a00141b7be578f9d5abbd4c4f9f329d5.gs',),('shiz',)) is predicted as shiz\n",
      "(00b335ed16a9305b2594ce2062a16e88.gs',),('sillyp2p',)) is predicted as sillyp2p\n",
      "(00c60c50aedacf218d729dfbfc280ec9.gs',),('sillyp2p',)) is predicted as sillyp2p\n",
      "(00c7b8963b2023e8ce8f50df2142d522.gs',),('sillyp2p',)) is predicted as sillyp2p\n",
      "(00c9980ddfc6d2c7c8a4f61006426123.gs',),('sillyp2p',)) is predicted as sillyp2p\n",
      "(00d24ebee6011f483e00887778716947.gs',),('sillyp2p',)) is predicted as sillyp2p\n",
      "(001526cac32b9385f87e536aa8f52f21.gs',),('simbot',)) is predicted as simbot\n",
      "(00182cd3e7ae42b5cac0c249d95245d8.gs',),('simbot',)) is predicted as wabot\n",
      "(002042fb87c3263681b74943b63e2753.gs',),('simbot',)) is predicted as wabot\n",
      "(0027bc939db1c0b7a32ef5696f525f59.gs',),('simbot',)) is predicted as wabot\n",
      "(003149b91cab0c99e310b718b0577c76.gs',),('simbot',)) is predicted as simbot\n",
      "(a0438e113e9807c9787217444129370c.gs',),('sytro',)) is predicted as sytro\n",
      "(a045a1ccb324f3338f7032d1457f2fc2.gs',),('sytro',)) is predicted as sytro\n",
      "(a048cfa296dd67007355d4db10ecc406.gs',),('sytro',)) is predicted as sytro\n",
      "(a050f3db3a45b651c002dca0056d77b4.gs',),('sytro',)) is predicted as sytro\n",
      "(a05861fcdbc8d812dc79885ad9277129.gs',),('sytro',)) is predicted as sytro\n",
      "(006c2225f106d1495a11e87dda056bcc.gs',),('wabot',)) is predicted as wabot\n",
      "(00705f269fc3e96a72e1621d2a5a4672.gs',),('wabot',)) is predicted as wabot\n",
      "(007b4f677b2ae5386ef22a6dd6255d24.gs',),('wabot',)) is predicted as wabot\n",
      "(a003087920327b31a58073cd2424e6cc.gs',),('wabot',)) is predicted as wabot\n",
      "(a00616890664727aff58da73e1f51774.gs',),('wabot',)) is predicted as wabot\n",
      "['autoit', 'autoit', 'autoit', 'autoit', 'autoit', 'bancteian', 'bancteian', 'bancteian', 'bancteian', 'bancteian', 'sytro', 'sytro', 'sytro', 'sytro', 'sytro', 'ircbot', 'ircbot', 'ircbot', 'ircbot', 'ircbot', 'sytro', 'sytro', 'sfone', 'sfone', 'sfone', 'shiz', 'shiz', 'shiz', 'shiz', 'shiz', 'sillyp2p', 'sillyp2p', 'sillyp2p', 'sillyp2p', 'sillyp2p', 'simbot', 'wabot', 'wabot', 'wabot', 'simbot', 'sytro', 'sytro', 'sytro', 'sytro', 'sytro', 'wabot', 'wabot', 'wabot', 'wabot', 'wabot']\n"
     ]
    }
   ],
   "source": [
    "dbtest = \"/media/kdam/Data/UCL/Federated-Learning/tool/SEMA/FL_data/DATA/CLASS_DATA/TEST\"\n",
    "y_pred, y_true  = trainer.classify(dbtest)"
   ]
  },
  {
   "cell_type": "code",
   "execution_count": 8,
   "id": "c1684ad2",
   "metadata": {},
   "outputs": [
    {
     "name": "stdout",
     "output_type": "stream",
     "text": [
      "ACC: 0.8\n",
      "BACC: 0.8\n",
      "f-score: 0.7678894634776988\n"
     ]
    },
    {
     "data": {
      "image/png": "[encoded data removed]",
      "text/plain": [
       "<Figure size 432x288 with 2 Axes>"
      ]
     },
     "metadata": {
      "needs_background": "light"
     },
     "output_type": "display_data"
    }
   ],
   "source": [
    "cm = confusion_matrix(y_true, y_pred)\n",
    "disp = ConfusionMatrixDisplay(confusion_matrix=cm)\n",
    "disp.plot()\n",
    "acc = accuracy_score(y_true, y_pred)\n",
    "bacc = balanced_accuracy_score(y_true, y_pred)\n",
    "fscore = f1_score(y_true,y_pred, average='weighted')\n",
    "print(f\"ACC: {acc}\\nBACC: {bacc}\\nf-score: {fscore}\")"
   ]
  },
  {
   "cell_type": "code",
   "execution_count": 9,
   "id": "9c0c2c65",
   "metadata": {},
   "outputs": [
    {
     "name": "stderr",
     "output_type": "stream",
     "text": [
      "Loading data from /media/kdam/Data/UCL/Federated-Learning/tool/SEMA/FL_data/DATA/CLASS_DATA/TEST\n",
      "Loading data from /media/kdam/Data/UCL/Federated-Learning/tool/SEMA/FL_data/DATA/CLASS_DATA/TEST\n",
      "Loading data from /media/kdam/Data/UCL/Federated-Learning/tool/SEMA/FL_data/DATA/CLASS_DATA/TEST\n",
      "100% (50 of 50) |########################| Elapsed Time: 0:00:03 Time:  0:00:03\n"
     ]
    },
    {
     "name": "stdout",
     "output_type": "stream",
     "text": [
      "['autoit', 'bancteian', 'delf', 'ircbot', 'sfone', 'shiz', 'sillyp2p', 'simbot', 'sytro', 'wabot']\n"
     ]
    },
    {
     "data": {
      "image/png": "[encoded data removed]",
      "text/plain": [
       "<Figure size 432x288 with 1 Axes>"
      ]
     },
     "metadata": {
      "needs_background": "light"
     },
     "output_type": "display_data"
    }
   ],
   "source": [
    "from sklearn.manifold import TSNE\n",
    "import torch\n",
    "import numpy as np\n",
    "dset = DLDataset.DLDataset(dbtest,\"mapping.txt\",\"APInameseq.txt\",4)\n",
    "colors = np.array([\"red\",\"green\",\"blue\",\"yellow\",\"pink\",\"black\",\"orange\",\"purple\",\"beige\",\"brown\",\"gray\",\"cyan\",\"magenta\"])\n",
    "classes = trainer.classe\n",
    "wv = trainer.model.RNN.encode\n",
    "X = list()\n",
    "c = list()\n",
    "for i in range(len(dset)):\n",
    "    X.append(wv(dset[i][0]))\n",
    "    c.append(colors[torch.where(dset[i][1]==1.)[1].item()])\n",
    "Y = torch.cat(X, dim=0)\n",
    "X_embedded = TSNE(n_components=2, learning_rate='auto', init='random').fit_transform(Y)\n",
    "_ = plt.scatter(X_embedded[:,0] , X_embedded[:,1],c=c)\n",
    "print(classes)"
   ]
  },
  {
   "cell_type": "code",
   "execution_count": 10,
   "id": "d558723f",
   "metadata": {},
   "outputs": [
    {
     "name": "stderr",
     "output_type": "stream",
     "text": [
      "Loading data from /media/kdam/Data/UCL/Federated-Learning/tool/SEMA/FL_data/DATA/BIN_DATA/TRAIN\n",
      "Loading data from /media/kdam/Data/UCL/Federated-Learning/tool/SEMA/FL_data/DATA/BIN_DATA/TRAIN\n",
      "Loading data from /media/kdam/Data/UCL/Federated-Learning/tool/SEMA/FL_data/DATA/BIN_DATA/TRAIN\n",
      "Loading data from /media/kdam/Data/UCL/Federated-Learning/tool/SEMA/FL_data/DATA/BIN_DATA/TRAIN\n",
      "100% (200 of 200) |######################| Elapsed Time: 0:00:30 Time:  0:00:30\n",
      "Epoch 1/5:\n",
      "Epoch 1/5:\n",
      "100% (200 of 200) |######################| Elapsed Time: 0:03:54 Time:  0:03:54\n",
      "\tEpoch 1: Train loss 0.6358608891980515 - Val loss 0.4130927141755819\n",
      "\tEpoch 1: Train loss 0.6358608891980515 - Val loss 0.4130927141755819\n",
      "Epoch 2/5:\n",
      "Epoch 2/5:\n",
      "100% (200 of 200) |######################| Elapsed Time: 0:04:00 Time:  0:04:00\n",
      "\tEpoch 2: Train loss 0.3747186535814156 - Val loss 0.1905638181604445\n",
      "\tEpoch 2: Train loss 0.3747186535814156 - Val loss 0.1905638181604445\n",
      "Epoch 3/5:\n",
      "Epoch 3/5:\n",
      "100% (200 of 200) |######################| Elapsed Time: 0:03:54 Time:  0:03:54\n",
      "\tEpoch 3: Train loss 0.1299244438453267 - Val loss 0.07852172460407018\n",
      "\tEpoch 3: Train loss 0.1299244438453267 - Val loss 0.07852172460407018\n",
      "Epoch 4/5:\n",
      "Epoch 4/5:\n",
      "100% (200 of 200) |######################| Elapsed Time: 0:03:57 Time:  0:03:57\n",
      "\tEpoch 4: Train loss 0.05922422019971742 - Val loss 0.07214789721183479\n",
      "\tEpoch 4: Train loss 0.05922422019971742 - Val loss 0.07214789721183479\n",
      "Epoch 5/5:\n",
      "Epoch 5/5:\n",
      "100% (200 of 200) |######################| Elapsed Time: 0:04:04 Time:  0:04:04\n",
      "\tEpoch 5: Train loss 0.1602861495429857 - Val loss 0.068008017167449\n",
      "\tEpoch 5: Train loss 0.1602861495429857 - Val loss 0.068008017167449\n",
      "\tLoss: 0.05922422019971742\n",
      "\tLoss: 0.05922422019971742\n"
     ]
    },
    {
     "data": {
      "image/png": "[encoded data removed]",
      "text/plain": [
       "<Figure size 432x288 with 1 Axes>"
      ]
     },
     "metadata": {
      "needs_background": "light"
     },
     "output_type": "display_data"
    }
   ],
   "source": [
    "dbtrain = \"/media/kdam/Data/UCL/Federated-Learning/tool/SEMA/FL_data/DATA/BIN_DATA/TRAIN\"\n",
    "\n",
    "trainer = DLTrainerClassifier.DLTrainerClassifier(\"\",epoch=5,data_scale=0.9)\n",
    "\n",
    "model,his = trainer.train(dbtrain)\n",
    "\n",
    "epochs = range(trainer.n_epochs)\n",
    "plt.plot(epochs, his[\"train\"], 'g', label='Training loss')\n",
    "plt.plot(epochs, his[\"val\"], 'b', label='validation loss')\n",
    "plt.title('Training and Validation loss')\n",
    "plt.xlabel('Epochs')\n",
    "plt.ylabel('Loss')\n",
    "_= plt.legend()"
   ]
  },
  {
   "cell_type": "code",
   "execution_count": 11,
   "id": "54e278f6",
   "metadata": {},
   "outputs": [
    {
     "name": "stderr",
     "output_type": "stream",
     "text": [
      "Loading data from /media/kdam/Data/UCL/Federated-Learning/tool/SEMA/FL_data/DATA/BIN_DATA/TEST\n",
      "Loading data from /media/kdam/Data/UCL/Federated-Learning/tool/SEMA/FL_data/DATA/BIN_DATA/TEST\n",
      "Loading data from /media/kdam/Data/UCL/Federated-Learning/tool/SEMA/FL_data/DATA/BIN_DATA/TEST\n",
      "Loading data from /media/kdam/Data/UCL/Federated-Learning/tool/SEMA/FL_data/DATA/BIN_DATA/TEST\n",
      "Loading data from /media/kdam/Data/UCL/Federated-Learning/tool/SEMA/FL_data/DATA/BIN_DATA/TEST\n",
      "100% (30 of 30) |########################| Elapsed Time: 0:00:02 Time:  0:00:02\n",
      "(06a6f469a19be1712a4ab2b6dee130172dcd74002eabdce4de422bb406d8baff.gs',),('cleanware',)) is predicted as cleanware\n",
      "(06a6f469a19be1712a4ab2b6dee130172dcd74002eabdce4de422bb406d8baff.gs',),('cleanware',)) is predicted as cleanware\n",
      "(3fc7052d15a6eec68d3911db975d0716f6809b00896776e2b966590f106327d2.gs',),('cleanware',)) is predicted as cleanware\n",
      "(3fc7052d15a6eec68d3911db975d0716f6809b00896776e2b966590f106327d2.gs',),('cleanware',)) is predicted as cleanware\n",
      "(3fed2049c67d7b45222dab43cc1caaa00edc73d62f05ab35ca017b1955ce9865.gs',),('cleanware',)) is predicted as cleanware\n",
      "(3fed2049c67d7b45222dab43cc1caaa00edc73d62f05ab35ca017b1955ce9865.gs',),('cleanware',)) is predicted as cleanware\n",
      "(4abc1c7d6392012ec4a431d486e5a87fdda1f801fa39f385791fe4f1019c719b.gs',),('cleanware',)) is predicted as malware\n",
      "(4abc1c7d6392012ec4a431d486e5a87fdda1f801fa39f385791fe4f1019c719b.gs',),('cleanware',)) is predicted as malware\n",
      "(4b04199bafc6887a0f209fe692733d154b4ef35a3e5ddc092697959c9841b8e3.gs',),('cleanware',)) is predicted as cleanware\n",
      "(4b04199bafc6887a0f209fe692733d154b4ef35a3e5ddc092697959c9841b8e3.gs',),('cleanware',)) is predicted as cleanware\n",
      "(4b3b6bb2e69eec9628d838f5bd0ecff1d5a4a4a3946d1059aecb1e3e2a442394.gs',),('cleanware',)) is predicted as cleanware\n",
      "(4b3b6bb2e69eec9628d838f5bd0ecff1d5a4a4a3946d1059aecb1e3e2a442394.gs',),('cleanware',)) is predicted as cleanware\n",
      "(4b73e553ef155728384a2e1a065d991f958316a37624db5854bbda23a321e412.gs',),('cleanware',)) is predicted as cleanware\n",
      "(4b73e553ef155728384a2e1a065d991f958316a37624db5854bbda23a321e412.gs',),('cleanware',)) is predicted as cleanware\n",
      "(4b9352d05e2fb374b5e9a9a2e0ff691a05c7980ae9acbecc87d4d2bb330d832e.gs',),('cleanware',)) is predicted as cleanware\n",
      "(4b9352d05e2fb374b5e9a9a2e0ff691a05c7980ae9acbecc87d4d2bb330d832e.gs',),('cleanware',)) is predicted as cleanware\n",
      "(4bc2b8ca3e8a2b5b5d7a9721999956a52fc35adb6667308c3a1deb0ebea84e06.gs',),('cleanware',)) is predicted as cleanware\n",
      "(4bc2b8ca3e8a2b5b5d7a9721999956a52fc35adb6667308c3a1deb0ebea84e06.gs',),('cleanware',)) is predicted as cleanware\n",
      "(4be0b9d4d2a8099b9b1d2b09b068d7888be12bc2c582d58fdbc64d89502a285f.gs',),('cleanware',)) is predicted as cleanware\n",
      "(4be0b9d4d2a8099b9b1d2b09b068d7888be12bc2c582d58fdbc64d89502a285f.gs',),('cleanware',)) is predicted as cleanware\n",
      "(4c0fc71a1b61ee4dcfb93662fbfd4c01889bf9a75c65a91143afd4b217037aba.gs',),('cleanware',)) is predicted as cleanware\n",
      "(4c0fc71a1b61ee4dcfb93662fbfd4c01889bf9a75c65a91143afd4b217037aba.gs',),('cleanware',)) is predicted as cleanware\n",
      "(4c434024f60db43ed8c885009256dbfccc467f7415e32717a435b1ec604c0154.gs',),('cleanware',)) is predicted as cleanware\n",
      "(4c434024f60db43ed8c885009256dbfccc467f7415e32717a435b1ec604c0154.gs',),('cleanware',)) is predicted as cleanware\n",
      "(4c7b18be5975d35c48172f1fdc880eee5c2bed36b2bd5dcfa75f77ed3cc4457c.gs',),('cleanware',)) is predicted as cleanware\n",
      "(4c7b18be5975d35c48172f1fdc880eee5c2bed36b2bd5dcfa75f77ed3cc4457c.gs',),('cleanware',)) is predicted as cleanware\n",
      "(4c866bc98da27770d28d7f48a813ded0ad22f58fec74506f13d89b01ede91244.gs',),('cleanware',)) is predicted as cleanware\n",
      "(4c866bc98da27770d28d7f48a813ded0ad22f58fec74506f13d89b01ede91244.gs',),('cleanware',)) is predicted as cleanware\n",
      "(4cd02e49bfcd2374c302b4bc81d12894b52b7cd58eb98c22ab7e97572353d69e.gs',),('cleanware',)) is predicted as malware\n",
      "(4cd02e49bfcd2374c302b4bc81d12894b52b7cd58eb98c22ab7e97572353d69e.gs',),('cleanware',)) is predicted as malware\n",
      "(SCDG_0a0f707663752fcee384add20de2ee2c3f2061781aa8f08266b155317eb4662d_SCDG.gs',),('malware',)) is predicted as malware\n",
      "(SCDG_0a0f707663752fcee384add20de2ee2c3f2061781aa8f08266b155317eb4662d_SCDG.gs',),('malware',)) is predicted as malware\n",
      "(SCDG_0b10f51931ebadefe515c5db78b89095df9ff47ad1bd042eace9d47047c5a09d_SCDG.gs',),('malware',)) is predicted as malware\n",
      "(SCDG_0b10f51931ebadefe515c5db78b89095df9ff47ad1bd042eace9d47047c5a09d_SCDG.gs',),('malware',)) is predicted as malware\n",
      "(SCDG_0b47d28e8f982e7bf4794fdf5b979507c60bac0ecbe6a480232d04def25c34ee_SCDG.gs',),('malware',)) is predicted as malware\n",
      "(SCDG_0b47d28e8f982e7bf4794fdf5b979507c60bac0ecbe6a480232d04def25c34ee_SCDG.gs',),('malware',)) is predicted as malware\n",
      "(SCDG_0b4ede6ce80824c7bf66ecf5b42e1032c1039dc8e8b6e462d91be333fe9572e4_SCDG.gs',),('malware',)) is predicted as malware\n",
      "(SCDG_0b4ede6ce80824c7bf66ecf5b42e1032c1039dc8e8b6e462d91be333fe9572e4_SCDG.gs',),('malware',)) is predicted as malware\n",
      "(SCDG_0c3d4871dc7316ae787156a859c22edfd6876458295e5350a6ed09f72e8b2e19_SCDG.gs',),('malware',)) is predicted as malware\n",
      "(SCDG_0c3d4871dc7316ae787156a859c22edfd6876458295e5350a6ed09f72e8b2e19_SCDG.gs',),('malware',)) is predicted as malware\n",
      "(SCDG_0c9976c9ffda1da06a0f8293ed9db01c9fb1d40a91f9896bda3ecfa406f67f4c_SCDG.gs',),('malware',)) is predicted as malware\n",
      "(SCDG_0c9976c9ffda1da06a0f8293ed9db01c9fb1d40a91f9896bda3ecfa406f67f4c_SCDG.gs',),('malware',)) is predicted as malware\n",
      "(SCDG_0d903cb51d86a47ea9baa01286e9a7d0c325f6412bc0e5cd48a4ba95c84e6d49_SCDG.gs',),('malware',)) is predicted as malware\n",
      "(SCDG_0d903cb51d86a47ea9baa01286e9a7d0c325f6412bc0e5cd48a4ba95c84e6d49_SCDG.gs',),('malware',)) is predicted as malware\n",
      "(SCDG_0ece37571329db1a83a8efeb0ed01d267ea7c2c349c235b2f4cc26bd07bb7df6_SCDG.gs',),('malware',)) is predicted as malware\n",
      "(SCDG_0ece37571329db1a83a8efeb0ed01d267ea7c2c349c235b2f4cc26bd07bb7df6_SCDG.gs',),('malware',)) is predicted as malware\n",
      "(SCDG_33b1629dc01123f78d568c7638f33ca6619834daad9866f666c00062920b13da_SCDG.gs',),('malware',)) is predicted as malware\n",
      "(SCDG_33b1629dc01123f78d568c7638f33ca6619834daad9866f666c00062920b13da_SCDG.gs',),('malware',)) is predicted as malware\n",
      "(SCDG_35f4374a535717f8aa78765591507d6361db9344cfc31ec0f8f7671ccd108b3e_SCDG.gs',),('malware',)) is predicted as malware\n",
      "(SCDG_35f4374a535717f8aa78765591507d6361db9344cfc31ec0f8f7671ccd108b3e_SCDG.gs',),('malware',)) is predicted as malware\n",
      "(SCDG_37bce33693a358d3ed3021325869fb33d1147efeb6a7636b35d9f22ce68df8d7_SCDG.gs',),('malware',)) is predicted as malware\n",
      "(SCDG_37bce33693a358d3ed3021325869fb33d1147efeb6a7636b35d9f22ce68df8d7_SCDG.gs',),('malware',)) is predicted as malware\n",
      "(SCDG_37cc8d06cb1500b90001e9307464c2f7a2d603c54ef604db7b840b635900d365_SCDG.gs',),('malware',)) is predicted as malware\n",
      "(SCDG_37cc8d06cb1500b90001e9307464c2f7a2d603c54ef604db7b840b635900d365_SCDG.gs',),('malware',)) is predicted as malware\n",
      "(SCDG_38bd80f1a17882d299bdac7df085d889ef677951b8954d847e42503d38b77141_SCDG.gs',),('malware',)) is predicted as malware\n",
      "(SCDG_38bd80f1a17882d299bdac7df085d889ef677951b8954d847e42503d38b77141_SCDG.gs',),('malware',)) is predicted as malware\n",
      "(SCDG_38da1c4dabd3275256a93bc7321267979802c35ec2cbd1ecef7a5ad18a61afad_SCDG.gs',),('malware',)) is predicted as malware\n",
      "(SCDG_38da1c4dabd3275256a93bc7321267979802c35ec2cbd1ecef7a5ad18a61afad_SCDG.gs',),('malware',)) is predicted as malware\n",
      "(SCDG_39c1cf05a4961c0e946d542b90e20a67a649e2142891e1b8072f825fe904644e_SCDG.gs',),('malware',)) is predicted as malware\n",
      "(SCDG_39c1cf05a4961c0e946d542b90e20a67a649e2142891e1b8072f825fe904644e_SCDG.gs',),('malware',)) is predicted as malware\n",
      "['cleanware', 'cleanware', 'cleanware', 'malware', 'cleanware', 'cleanware', 'cleanware', 'cleanware', 'cleanware', 'cleanware', 'cleanware', 'cleanware', 'cleanware', 'cleanware', 'malware', 'malware', 'malware', 'malware', 'malware', 'malware', 'malware', 'malware', 'malware', 'malware', 'malware', 'malware', 'malware', 'malware', 'malware', 'malware']\n",
      "['cleanware', 'cleanware', 'cleanware', 'malware', 'cleanware', 'cleanware', 'cleanware', 'cleanware', 'cleanware', 'cleanware', 'cleanware', 'cleanware', 'cleanware', 'cleanware', 'malware', 'malware', 'malware', 'malware', 'malware', 'malware', 'malware', 'malware', 'malware', 'malware', 'malware', 'malware', 'malware', 'malware', 'malware', 'malware']\n"
     ]
    }
   ],
   "source": [
    "dbtest = \"/media/kdam/Data/UCL/Federated-Learning/tool/SEMA/FL_data/DATA/BIN_DATA/TEST\"\n",
    "y_pred, y_true  = trainer.classify(dbtest)"
   ]
  },
  {
   "cell_type": "code",
   "execution_count": 12,
   "id": "ca904809",
   "metadata": {},
   "outputs": [
    {
     "name": "stdout",
     "output_type": "stream",
     "text": [
      "ACC: 0.9333333333333333\n",
      "BACC: 0.9333333333333333\n",
      "f-score: 0.9330357142857143\n"
     ]
    }
   ],
   "source": [
    "acc = accuracy_score(y_true, y_pred)\n",
    "bacc = balanced_accuracy_score(y_true, y_pred)\n",
    "fscore = f1_score(y_true,y_pred, average='weighted')\n",
    "print(f\"ACC: {acc}\\nBACC: {bacc}\\nf-score: {fscore}\")"
   ]
  },
  {
   "cell_type": "code",
   "execution_count": 13,
   "id": "fe70fc2f",
   "metadata": {},
   "outputs": [
    {
     "name": "stderr",
     "output_type": "stream",
     "text": [
      "Loading data from /media/kdam/Data/UCL/Federated-Learning/tool/SEMA/FL_data/DATA/BIN_DATA/TEST\n",
      "Loading data from /media/kdam/Data/UCL/Federated-Learning/tool/SEMA/FL_data/DATA/BIN_DATA/TEST\n",
      "Loading data from /media/kdam/Data/UCL/Federated-Learning/tool/SEMA/FL_data/DATA/BIN_DATA/TEST\n",
      "Loading data from /media/kdam/Data/UCL/Federated-Learning/tool/SEMA/FL_data/DATA/BIN_DATA/TEST\n",
      "Loading data from /media/kdam/Data/UCL/Federated-Learning/tool/SEMA/FL_data/DATA/BIN_DATA/TEST\n",
      "Loading data from /media/kdam/Data/UCL/Federated-Learning/tool/SEMA/FL_data/DATA/BIN_DATA/TEST\n",
      "100% (30 of 30) |########################| Elapsed Time: 0:00:03 Time:  0:00:03\n"
     ]
    },
    {
     "name": "stdout",
     "output_type": "stream",
     "text": [
      "['cleanware', 'malware']\n"
     ]
    },
    {
     "data": {
      "image/png": "[encoded data removed]",
      "text/plain": [
       "<Figure size 432x288 with 1 Axes>"
      ]
     },
     "metadata": {
      "needs_background": "light"
     },
     "output_type": "display_data"
    }
   ],
   "source": [
    "from sklearn.manifold import TSNE\n",
    "import torch\n",
    "import numpy as np\n",
    "colors = np.array([\"red\",\"green\",\"blue\",\"yellow\",\"pink\",\"black\",\"orange\",\"purple\",\"beige\",\"brown\",\"gray\",\"cyan\",\"magenta\"])\n",
    "classes = trainer.classe\n",
    "dset = DLDataset.DLDataset(dbtest,\"mapping.txt\",\"APInameseq.txt\",4)\n",
    "wv = trainer.model.RNN.encode\n",
    "X = list()\n",
    "c = list()\n",
    "for i in range(len(dset)):\n",
    "    X.append(wv(dset[i][0]))\n",
    "    c.append(colors[torch.where(dset[i][1]==1.)[1].item()])\n",
    "Y = torch.cat(X, dim=0)\n",
    "X_embedded = TSNE(n_components=2, learning_rate='auto', init='random').fit_transform(Y)\n",
    "_ = plt.scatter(X_embedded[:,0] , X_embedded[:,1],c=c)\n",
    "print(classes)"
   ]
  },
  {
   "cell_type": "code",
   "execution_count": null,
   "id": "3f1be0a5",
   "metadata": {},
   "outputs": [],
   "source": []
  }
 ],
 "metadata": {
  "kernelspec": {
   "display_name": "Python 3",
   "language": "python",
   "name": "python3"
  },
  "language_info": {
   "codemirror_mode": {
    "name": "ipython",
    "version": 3
   },
   "file_extension": ".py",
   "mimetype": "text/x-python",
   "name": "python",
   "nbconvert_exporter": "python",
   "pygments_lexer": "ipython3",
   "version": "3.8.10"
  }
 },
 "nbformat": 4,
 "nbformat_minor": 5
}
